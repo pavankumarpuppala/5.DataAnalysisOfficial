{
 "cells": [
  {
   "cell_type": "markdown",
   "metadata": {},
   "source": [
    "Suppose you have an array within the range of [1000,9999]. The main aim is to change the numbers in ascending order by changing one digit from every array element.\n",
    "Input: arr[] = {5555, 4444, 3333, 2222, 1111}\n",
    "Output: 1555 2444 3033 3222 4111"
   ]
  },
  {
   "cell_type": "code",
   "execution_count": 5,
   "metadata": {},
   "outputs": [
    {
     "name": "stdout",
     "output_type": "stream",
     "text": [
      "5555 4444 3333 2222 1111\n",
      "[1555, 2444, 3033, 3222, 4111]\n"
     ]
    }
   ],
   "source": [
    "def convert(n,arr):\n",
    "    for i in range(1000,9999):\n",
    "        count=0\n",
    "        a=int(i)\n",
    "        b=int(n)\n",
    "        for j in range(0,4):\n",
    "            if a%10!=b%10:\n",
    "                count+=1\n",
    "            a=a//10\n",
    "            b=b//10\n",
    "        if count<=1 and arr<i:\n",
    "            return(i)\n",
    "l=[x for x in input().split()]\n",
    "ans=[]\n",
    "for i in range(len(l)):\n",
    "    if i!=0:\n",
    "        ans.append(convert(l[i],ans[i-1]))\n",
    "    else:\n",
    "        ans.append(convert(l[i],0))\n",
    "print(ans)"
   ]
  },
  {
   "cell_type": "code",
   "execution_count": 2,
   "metadata": {},
   "outputs": [
    {
     "name": "stdout",
     "output_type": "stream",
     "text": [
      "1005 1014 1015 "
     ]
    }
   ],
   "source": [
    "# Python3 implementation of the approach \n",
    "DIGITS = 4; MIN = 1000; MAX = 9999; \n",
    "\n",
    "# Function to return the minimum element \n",
    "# from the range [prev, MAX] such that \n",
    "# it differs in at most 1 digit with cur \n",
    "def getBest(prev, cur) : \n",
    "\n",
    "\t# To start with the value \n",
    "\t# we have achieved in the last step \n",
    "\tmaximum = max(MIN, prev); \n",
    "\n",
    "\tfor i in range(maximum, MAX + 1) : \n",
    "\t\tcnt = 0; \n",
    "\n",
    "\t\t# Store the value with which the \n",
    "\t\t# current will be compared \n",
    "\t\ta = i; \n",
    "\n",
    "\t\t# Current value \n",
    "\t\tb = cur; \n",
    "\n",
    "\t\t# There are at most 4 digits \n",
    "\t\tfor k in range(DIGITS) : \n",
    "\n",
    "\t\t\t# If the current digit differs \n",
    "\t\t\t# in both the numbers \n",
    "\t\t\tif (a % 10 != b % 10) : \n",
    "\t\t\t\tcnt += 1; \n",
    "\n",
    "\t\t\t# Eliminate last digits in \n",
    "\t\t\t# both the numbers \n",
    "\t\t\ta //= 10; \n",
    "\t\t\tb //= 10; \n",
    "\n",
    "\t\t# If the number of different \n",
    "\t\t# digits is at most 1 \n",
    "\t\tif (cnt <= 1) : \n",
    "\t\t\treturn i; \n",
    "\n",
    "\t# If we can't find any number for which \n",
    "\t# the number of change is less than or \n",
    "\t# equal to 1 then return -1 \n",
    "\treturn -1; \n",
    "\n",
    "# Function to get the non-decreasing list \n",
    "def getList(arr, n) : \n",
    "\n",
    "\t# Creating a vector for the updated list \n",
    "\tmyList = []; \n",
    "\t\n",
    "\t# Let's assume that it is possible to \n",
    "\t# make the list non-decreasing \n",
    "\tpossible = True; \n",
    "\n",
    "\tmyList.append(0); \n",
    "\n",
    "\tfor i in range(n) : \n",
    "\n",
    "\t\t# Element of the original array \n",
    "\t\tcur = arr[i]; \n",
    "\n",
    "\t\tmyList.append(getBest(myList[-1], cur)); \n",
    "\n",
    "\t\t# Can't make the list non-decreasing \n",
    "\t\tif (myList[-1] == -1) : \n",
    "\t\t\tpossible = False; \n",
    "\t\t\tbreak; \n",
    "\n",
    "\t# If possible then print the list \n",
    "\tif (possible) : \n",
    "\t\tfor i in range(1, len(myList)) : \n",
    "\t\t\tprint(myList[i], end = \" \"); \n",
    "\telse : \n",
    "\t\tprint(\"-1\"); \n",
    "\n",
    "# Driver code \n",
    "if __name__ == \"__main__\" : \n",
    "\n",
    "\tarr = [ 1095, 1094, 1095 ]; \n",
    "\tn = len(arr); \n",
    "\n",
    "\tgetList(arr, n); "
   ]
  },
  {
   "cell_type": "markdown",
   "metadata": {},
   "source": [
    "#### bubble sort"
   ]
  },
  {
   "cell_type": "code",
   "execution_count": 8,
   "metadata": {},
   "outputs": [
    {
     "name": "stdout",
     "output_type": "stream",
     "text": [
      " array is not sorted already\n",
      " array is not sorted already\n",
      " array is not sorted already\n",
      " array is not sorted already\n",
      "number of unsorted numbers are 4\n",
      "Sorted array is [1, 2, 2, 3, 4, 5, 7, 8]\n"
     ]
    }
   ],
   "source": [
    "lst=[1,2,3,4,5,7,2,8]\n",
    "n=len(lst)\n",
    "k=0\n",
    "\n",
    "for i in range(0,n-1):\n",
    "    m=0    \n",
    "    for j in range(0, n-i-1):\n",
    "        \n",
    "        if(lst[j]>lst[j+1]):\n",
    "            lst[j],lst[j+1]=lst[j+1],lst[j]\n",
    "            k=k+1\n",
    "            print(\" array is not sorted already\")\n",
    "            m=1\n",
    "    if(m==0):\n",
    "        break\n",
    "    else:\n",
    "        continue\n",
    "print(\"number of unsorted numbers are\",k)\n",
    "print(\"Sorted array is\",lst)"
   ]
  },
  {
   "cell_type": "markdown",
   "metadata": {},
   "source": [
    "### Generate All Binary Strings\n",
    "- if n=2 ['00', '01', '10', '11']\n",
    "- if n=3 ['000', '001', '010', '011', '100', '101', '110', '111']\n",
    "- if n=4 ['0000', '0001', '0010', '0011', '0100', '0101', '0110', '0111', '1000', '1001', '1010', '1011', '1100', '1101', '1110', '1111']"
   ]
  },
  {
   "cell_type": "code",
   "execution_count": 1,
   "metadata": {},
   "outputs": [
    {
     "name": "stdout",
     "output_type": "stream",
     "text": [
      "['000', '001', '010', '011', '100', '101', '110', '111']\n"
     ]
    }
   ],
   "source": [
    "def append_bits(x, L):\n",
    "    return [x + element for element in    L]\n",
    "\n",
    "def generate_bit(n):\n",
    "    if n == 0: return []\n",
    "    if n == 1: return [\"0\", \"1\"]\n",
    "    else:\n",
    "        return (append_bits(\"0\", generate_bit(n - 1)) + \n",
    "                append_bits(\"1\", generate_bit(n - 1)))\n",
    "                \n",
    "print(generate_bit(3))"
   ]
  },
  {
   "cell_type": "markdown",
   "metadata": {},
   "source": [
    "Problem 8-Anagram Check Analysis- Competitive Programming\n",
    "An anagram is a word or phrase formed by rearranging the letters of a different word or phrase, typically using all the original letters exactly once. For example, the word anagram itself can be rearranged into nag a ram, also the word binary into brainy and the word adobe into abode\n",
    "\n",
    "Examples\n",
    "\n",
    "below = elbow\n",
    "study = dusty\n",
    "night = thing\n",
    "act = cat\n",
    "dessert = stressed\n",
    "bad credit = debit card\n",
    "gainly = laying\n",
    "conversation = voice rants on\n",
    "eleven plus two = twelve plus one"
   ]
  },
  {
   "cell_type": "code",
   "execution_count": 2,
   "metadata": {},
   "outputs": [],
   "source": [
    "### Final Solution\n",
    "def anagram(str1,str2):\n",
    "    group_letters={}\n",
    "    for i in str1:\n",
    "        if i in group_letters:\n",
    "            group_letters[i]+=1\n",
    "        else:\n",
    "            group_letters[i]=1\n",
    "    for i in str2:\n",
    "        if i in group_letters:\n",
    "            group_letters[i]-=1\n",
    "        else:\n",
    "            group_letters[i]=1\n",
    "    for j in group_letters:\n",
    "        if group_letters[j]!=0:\n",
    "            return False\n",
    "    return True"
   ]
  },
  {
   "cell_type": "code",
   "execution_count": 3,
   "metadata": {},
   "outputs": [
    {
     "name": "stdout",
     "output_type": "stream",
     "text": [
      "Enter the first string: Eleven plus two\n",
      "Enter the first string: twelve plus one\n",
      "The entered strings are anagram\n"
     ]
    }
   ],
   "source": [
    "string1=input(\"Enter the first string: \")\n",
    "string1=string1.replace(\" \",\"\").lower()\n",
    "string2=input(\"Enter the first string: \")\n",
    "string2=string2.replace(\" \",\"\").lower()\n",
    "var=anagram(string1,string2)\n",
    "if(var):\n",
    "    print(\"The entered strings are anagram\")\n",
    "else:\n",
    "    print(\"The entered strings are not anagram\")"
   ]
  },
  {
   "cell_type": "code",
   "execution_count": 10,
   "metadata": {},
   "outputs": [
    {
     "name": "stdout",
     "output_type": "stream",
     "text": [
      "anagram\n"
     ]
    }
   ],
   "source": [
    "import collections\n",
    "\n",
    "s1 = \"MoneY\"\n",
    "s2 = \"noyem\"\n",
    "\n",
    "ss1 = sorted(s1.lower())\n",
    "ss2 = sorted(s2.lower())\n",
    "\n",
    "if collections.Counter(ss1) == collections.Counter(ss2):\n",
    "    print('anagram')\n",
    "else:\n",
    "    print(\"not anagram\")"
   ]
  },
  {
   "cell_type": "markdown",
   "metadata": {},
   "source": [
    "### palindrome"
   ]
  },
  {
   "cell_type": "code",
   "execution_count": 14,
   "metadata": {},
   "outputs": [
    {
     "data": {
      "text/plain": [
       "True"
      ]
     },
     "execution_count": 14,
     "metadata": {},
     "output_type": "execute_result"
    }
   ],
   "source": [
    "f1 = \"malayalam\"\n",
    "f2 = f1[::-1]\n",
    "f1 == f2"
   ]
  },
  {
   "cell_type": "code",
   "execution_count": null,
   "metadata": {},
   "outputs": [],
   "source": []
  }
 ],
 "metadata": {
  "kernelspec": {
   "display_name": "Python 3",
   "language": "python",
   "name": "python3"
  },
  "language_info": {
   "codemirror_mode": {
    "name": "ipython",
    "version": 3
   },
   "file_extension": ".py",
   "mimetype": "text/x-python",
   "name": "python",
   "nbconvert_exporter": "python",
   "pygments_lexer": "ipython3",
   "version": "3.6.5"
  }
 },
 "nbformat": 4,
 "nbformat_minor": 2
}
