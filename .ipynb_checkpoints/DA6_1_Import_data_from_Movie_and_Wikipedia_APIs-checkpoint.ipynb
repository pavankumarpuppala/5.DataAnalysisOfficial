{
 "cells": [
  {
   "cell_type": "markdown",
   "metadata": {},
   "source": [
    "### Import data from API's\n",
    "- An API is a set of protocols and routines for building and interacting with software applications.\n",
    "- API is an acronym and is short for Application Program Interface.\n",
    "- It is common to pull data from APIs in the JSON file format.\n",
    "- An API is a bunch of code that allows two software programs to communicate with each other."
   ]
  },
  {
   "cell_type": "markdown",
   "metadata": {},
   "source": [
    "[Refer 1: to understand SOAP Vs REST API Theory](https://www.codementor.io/@sagaragarwal94/building-a-basic-restful-api-in-python-58k02xsiq)"
   ]
  },
  {
   "cell_type": "markdown",
   "metadata": {},
   "source": [
    "[Refer 2](https://www.guru99.com/comparison-between-web-services.html)"
   ]
  },
  {
   "cell_type": "markdown",
   "metadata": {},
   "source": [
    "## Working with Movie Database API\n",
    "- Open http://www.omdbapi.com\n",
    "- Click on api keys\n",
    "- Submit the form"
   ]
  },
  {
   "cell_type": "markdown",
   "metadata": {},
   "source": [
    "## Exercise 1: open movie database API"
   ]
  },
  {
   "cell_type": "code",
   "execution_count": 26,
   "metadata": {},
   "outputs": [
    {
     "data": {
      "text/plain": [
       "<Response [200]>"
      ]
     },
     "execution_count": 26,
     "metadata": {},
     "output_type": "execute_result"
    }
   ],
   "source": [
    "import requests\n",
    "\n",
    "# Assign URL to variable: url\n",
    "url = \"http://www.omdbapi.com/?apikey=689a5b07&t=Jaanu\"\n",
    "\n",
    "# Package the request, send the request and recieve the response: res\n",
    "res = requests.get(url)\n",
    "res"
   ]
  },
  {
   "cell_type": "code",
   "execution_count": 27,
   "metadata": {},
   "outputs": [
    {
     "data": {
      "text/plain": [
       "requests.models.Response"
      ]
     },
     "execution_count": 27,
     "metadata": {},
     "output_type": "execute_result"
    }
   ],
   "source": [
    "type(res)"
   ]
  },
  {
   "cell_type": "code",
   "execution_count": 28,
   "metadata": {},
   "outputs": [
    {
     "data": {
      "text/plain": [
       "'{\"Title\":\"Jaanu\",\"Year\":\"2020\",\"Rated\":\"Not Rated\",\"Released\":\"07 Feb 2020\",\"Runtime\":\"151 min\",\"Genre\":\"Drama, Romance\",\"Director\":\"C. Prem Kumar\",\"Writer\":\"Mirchi Kiran (dialogue), C. Prem Kumar\",\"Actors\":\"Sharwanand, Sai Kiran Kumar, Samantha Akkineni, Gouri Kishan\",\"Plot\":\"Decades post-high school, Ram and Jaanu meet at their school\\'s reunion and explore their past thoughts consisting of affection, care, depth and grieve all over the period of one evening.\",\"Language\":\"Telugu\",\"Country\":\"India\",\"Awards\":\"N/A\",\"Poster\":\"https://m.media-amazon.com/images/M/MV5BMTBmMTBjYzQtYmM0ZC00ZjhjLWI2MDctNTZmYzcxNTM4MTgyXkEyXkFqcGdeQXVyNTgxODY5ODI@._V1_SX300.jpg\",\"Ratings\":[{\"Source\":\"Internet Movie Database\",\"Value\":\"6.9/10\"}],\"Metascore\":\"N/A\",\"imdbRating\":\"6.9\",\"imdbVotes\":\"889\",\"imdbID\":\"tt9691336\",\"Type\":\"movie\",\"DVD\":\"N/A\",\"BoxOffice\":\"N/A\",\"Production\":\"N/A\",\"Website\":\"N/A\",\"Response\":\"True\"}'"
      ]
     },
     "execution_count": 28,
     "metadata": {},
     "output_type": "execute_result"
    }
   ],
   "source": [
    "res.text"
   ]
  },
  {
   "cell_type": "code",
   "execution_count": 29,
   "metadata": {},
   "outputs": [
    {
     "data": {
      "text/plain": [
       "str"
      ]
     },
     "execution_count": 29,
     "metadata": {},
     "output_type": "execute_result"
    }
   ],
   "source": [
    "type(res.text)"
   ]
  },
  {
   "cell_type": "markdown",
   "metadata": {},
   "source": [
    "#### res.json?\n",
    "- Signature: res.json(**kwargs)\n",
    "- Docstring: Returns the json-encoded content of a response, if any."
   ]
  },
  {
   "cell_type": "code",
   "execution_count": 30,
   "metadata": {},
   "outputs": [],
   "source": [
    "# Decode the JSON data into a dictionary: json_data\n",
    "json_data = res.json()"
   ]
  },
  {
   "cell_type": "code",
   "execution_count": 31,
   "metadata": {},
   "outputs": [
    {
     "data": {
      "text/plain": [
       "dict"
      ]
     },
     "execution_count": 31,
     "metadata": {},
     "output_type": "execute_result"
    }
   ],
   "source": [
    "type(json_data)"
   ]
  },
  {
   "cell_type": "code",
   "execution_count": 32,
   "metadata": {},
   "outputs": [
    {
     "data": {
      "text/plain": [
       "dict_keys(['Title', 'Year', 'Rated', 'Released', 'Runtime', 'Genre', 'Director', 'Writer', 'Actors', 'Plot', 'Language', 'Country', 'Awards', 'Poster', 'Ratings', 'Metascore', 'imdbRating', 'imdbVotes', 'imdbID', 'Type', 'DVD', 'BoxOffice', 'Production', 'Website', 'Response'])"
      ]
     },
     "execution_count": 32,
     "metadata": {},
     "output_type": "execute_result"
    }
   ],
   "source": [
    "json_data.keys()"
   ]
  },
  {
   "cell_type": "code",
   "execution_count": 33,
   "metadata": {},
   "outputs": [
    {
     "data": {
      "text/plain": [
       "dict_values(['Jaanu', '2020', 'Not Rated', '07 Feb 2020', '151 min', 'Drama, Romance', 'C. Prem Kumar', 'Mirchi Kiran (dialogue), C. Prem Kumar', 'Sharwanand, Sai Kiran Kumar, Samantha Akkineni, Gouri Kishan', \"Decades post-high school, Ram and Jaanu meet at their school's reunion and explore their past thoughts consisting of affection, care, depth and grieve all over the period of one evening.\", 'Telugu', 'India', 'N/A', 'https://m.media-amazon.com/images/M/MV5BMTBmMTBjYzQtYmM0ZC00ZjhjLWI2MDctNTZmYzcxNTM4MTgyXkEyXkFqcGdeQXVyNTgxODY5ODI@._V1_SX300.jpg', [{'Source': 'Internet Movie Database', 'Value': '6.9/10'}], 'N/A', '6.9', '889', 'tt9691336', 'movie', 'N/A', 'N/A', 'N/A', 'N/A', 'True'])"
      ]
     },
     "execution_count": 33,
     "metadata": {},
     "output_type": "execute_result"
    }
   ],
   "source": [
    "json_data.values()"
   ]
  },
  {
   "cell_type": "code",
   "execution_count": 17,
   "metadata": {},
   "outputs": [
    {
     "data": {
      "text/plain": [
       "'Jaanu'"
      ]
     },
     "execution_count": 17,
     "metadata": {},
     "output_type": "execute_result"
    }
   ],
   "source": [
    "json_data[\"Title\"]"
   ]
  },
  {
   "cell_type": "code",
   "execution_count": 18,
   "metadata": {},
   "outputs": [
    {
     "name": "stdout",
     "output_type": "stream",
     "text": [
      "Title:  Jaanu\n",
      "Year:  2020\n",
      "Rated:  Not Rated\n",
      "Released:  07 Feb 2020\n",
      "Runtime:  151 min\n",
      "Genre:  Drama, Romance\n",
      "Director:  C. Prem Kumar\n",
      "Writer:  Mirchi Kiran (dialogue), C. Prem Kumar\n",
      "Actors:  Sharwanand, Sai Kiran Kumar, Samantha Akkineni, Gouri Kishan\n",
      "Plot:  Decades post-high school, Ram and Jaanu meet at their school's reunion and explore their past thoughts consisting of affection, care, depth and grieve all over the period of one evening.\n",
      "Language:  Telugu\n",
      "Country:  India\n",
      "Awards:  N/A\n",
      "Poster:  https://m.media-amazon.com/images/M/MV5BMTBmMTBjYzQtYmM0ZC00ZjhjLWI2MDctNTZmYzcxNTM4MTgyXkEyXkFqcGdeQXVyNTgxODY5ODI@._V1_SX300.jpg\n",
      "Ratings:  [{'Source': 'Internet Movie Database', 'Value': '6.9/10'}]\n",
      "Metascore:  N/A\n",
      "imdbRating:  6.9\n",
      "imdbVotes:  889\n",
      "imdbID:  tt9691336\n",
      "Type:  movie\n",
      "DVD:  N/A\n",
      "BoxOffice:  N/A\n",
      "Production:  N/A\n",
      "Website:  N/A\n",
      "Response:  True\n"
     ]
    }
   ],
   "source": [
    "#Print each key-value pair in json_data\n",
    "for key in json_data.keys():\n",
    "    print(key + ': ', json_data[key])"
   ]
  },
  {
   "cell_type": "code",
   "execution_count": null,
   "metadata": {},
   "outputs": [],
   "source": []
  },
  {
   "cell_type": "code",
   "execution_count": 19,
   "metadata": {},
   "outputs": [],
   "source": [
    "import  requests\n",
    "runtime_list=[]\n",
    "movie_names=[\"midway\",\"saaho\",\"joker\"]\n",
    "for i in movie_names:\n",
    "    url = (\"http://www.omdbapi.com/?apikey=689a5b07&t=\"+i)\n",
    "    res = requests.get(url)\n",
    "    json_data = res.json()\n",
    "    runtime_list.append(json_data[\"Runtime\"])"
   ]
  },
  {
   "cell_type": "code",
   "execution_count": 20,
   "metadata": {},
   "outputs": [
    {
     "name": "stdout",
     "output_type": "stream",
     "text": [
      "['138 min', '170 min', '122 min'] ['midway', 'saaho', 'joker']\n"
     ]
    }
   ],
   "source": [
    "print(runtime_list,movie_names)"
   ]
  },
  {
   "cell_type": "code",
   "execution_count": 21,
   "metadata": {},
   "outputs": [
    {
     "data": {
      "text/plain": [
       "dict"
      ]
     },
     "execution_count": 21,
     "metadata": {},
     "output_type": "execute_result"
    }
   ],
   "source": [
    "type(json_data)"
   ]
  },
  {
   "cell_type": "code",
   "execution_count": 22,
   "metadata": {},
   "outputs": [
    {
     "data": {
      "text/html": [
       "<div>\n",
       "<style scoped>\n",
       "    .dataframe tbody tr th:only-of-type {\n",
       "        vertical-align: middle;\n",
       "    }\n",
       "\n",
       "    .dataframe tbody tr th {\n",
       "        vertical-align: top;\n",
       "    }\n",
       "\n",
       "    .dataframe thead th {\n",
       "        text-align: right;\n",
       "    }\n",
       "</style>\n",
       "<table border=\"1\" class=\"dataframe\">\n",
       "  <thead>\n",
       "    <tr style=\"text-align: right;\">\n",
       "      <th></th>\n",
       "      <th>Title</th>\n",
       "      <th>Year</th>\n",
       "      <th>Rated</th>\n",
       "      <th>Released</th>\n",
       "      <th>Runtime</th>\n",
       "      <th>Genre</th>\n",
       "      <th>Director</th>\n",
       "      <th>Writer</th>\n",
       "      <th>Actors</th>\n",
       "      <th>Plot</th>\n",
       "      <th>...</th>\n",
       "      <th>Metascore</th>\n",
       "      <th>imdbRating</th>\n",
       "      <th>imdbVotes</th>\n",
       "      <th>imdbID</th>\n",
       "      <th>Type</th>\n",
       "      <th>DVD</th>\n",
       "      <th>BoxOffice</th>\n",
       "      <th>Production</th>\n",
       "      <th>Website</th>\n",
       "      <th>Response</th>\n",
       "    </tr>\n",
       "  </thead>\n",
       "  <tbody>\n",
       "    <tr>\n",
       "      <th>0</th>\n",
       "      <td>Joker</td>\n",
       "      <td>2019</td>\n",
       "      <td>R</td>\n",
       "      <td>04 Oct 2019</td>\n",
       "      <td>122 min</td>\n",
       "      <td>Crime, Drama, Thriller</td>\n",
       "      <td>Todd Phillips</td>\n",
       "      <td>Todd Phillips, Scott Silver, Bob Kane (based o...</td>\n",
       "      <td>Joaquin Phoenix, Robert De Niro, Zazie Beetz, ...</td>\n",
       "      <td>In Gotham City, mentally troubled comedian Art...</td>\n",
       "      <td>...</td>\n",
       "      <td>59</td>\n",
       "      <td>8.4</td>\n",
       "      <td>985,354</td>\n",
       "      <td>tt7286456</td>\n",
       "      <td>movie</td>\n",
       "      <td>03 Oct 2019</td>\n",
       "      <td>$335,451,311</td>\n",
       "      <td>Bron Studios, Creative Wealth Media Finance, D...</td>\n",
       "      <td>N/A</td>\n",
       "      <td>True</td>\n",
       "    </tr>\n",
       "    <tr>\n",
       "      <th>1</th>\n",
       "      <td>Joker</td>\n",
       "      <td>2019</td>\n",
       "      <td>R</td>\n",
       "      <td>04 Oct 2019</td>\n",
       "      <td>122 min</td>\n",
       "      <td>Crime, Drama, Thriller</td>\n",
       "      <td>Todd Phillips</td>\n",
       "      <td>Todd Phillips, Scott Silver, Bob Kane (based o...</td>\n",
       "      <td>Joaquin Phoenix, Robert De Niro, Zazie Beetz, ...</td>\n",
       "      <td>In Gotham City, mentally troubled comedian Art...</td>\n",
       "      <td>...</td>\n",
       "      <td>59</td>\n",
       "      <td>8.4</td>\n",
       "      <td>985,354</td>\n",
       "      <td>tt7286456</td>\n",
       "      <td>movie</td>\n",
       "      <td>03 Oct 2019</td>\n",
       "      <td>$335,451,311</td>\n",
       "      <td>Bron Studios, Creative Wealth Media Finance, D...</td>\n",
       "      <td>N/A</td>\n",
       "      <td>True</td>\n",
       "    </tr>\n",
       "    <tr>\n",
       "      <th>2</th>\n",
       "      <td>Joker</td>\n",
       "      <td>2019</td>\n",
       "      <td>R</td>\n",
       "      <td>04 Oct 2019</td>\n",
       "      <td>122 min</td>\n",
       "      <td>Crime, Drama, Thriller</td>\n",
       "      <td>Todd Phillips</td>\n",
       "      <td>Todd Phillips, Scott Silver, Bob Kane (based o...</td>\n",
       "      <td>Joaquin Phoenix, Robert De Niro, Zazie Beetz, ...</td>\n",
       "      <td>In Gotham City, mentally troubled comedian Art...</td>\n",
       "      <td>...</td>\n",
       "      <td>59</td>\n",
       "      <td>8.4</td>\n",
       "      <td>985,354</td>\n",
       "      <td>tt7286456</td>\n",
       "      <td>movie</td>\n",
       "      <td>03 Oct 2019</td>\n",
       "      <td>$335,451,311</td>\n",
       "      <td>Bron Studios, Creative Wealth Media Finance, D...</td>\n",
       "      <td>N/A</td>\n",
       "      <td>True</td>\n",
       "    </tr>\n",
       "  </tbody>\n",
       "</table>\n",
       "<p>3 rows × 25 columns</p>\n",
       "</div>"
      ],
      "text/plain": [
       "   Title  Year Rated     Released  Runtime                   Genre  \\\n",
       "0  Joker  2019     R  04 Oct 2019  122 min  Crime, Drama, Thriller   \n",
       "1  Joker  2019     R  04 Oct 2019  122 min  Crime, Drama, Thriller   \n",
       "2  Joker  2019     R  04 Oct 2019  122 min  Crime, Drama, Thriller   \n",
       "\n",
       "        Director                                             Writer  \\\n",
       "0  Todd Phillips  Todd Phillips, Scott Silver, Bob Kane (based o...   \n",
       "1  Todd Phillips  Todd Phillips, Scott Silver, Bob Kane (based o...   \n",
       "2  Todd Phillips  Todd Phillips, Scott Silver, Bob Kane (based o...   \n",
       "\n",
       "                                              Actors  \\\n",
       "0  Joaquin Phoenix, Robert De Niro, Zazie Beetz, ...   \n",
       "1  Joaquin Phoenix, Robert De Niro, Zazie Beetz, ...   \n",
       "2  Joaquin Phoenix, Robert De Niro, Zazie Beetz, ...   \n",
       "\n",
       "                                                Plot  ... Metascore  \\\n",
       "0  In Gotham City, mentally troubled comedian Art...  ...        59   \n",
       "1  In Gotham City, mentally troubled comedian Art...  ...        59   \n",
       "2  In Gotham City, mentally troubled comedian Art...  ...        59   \n",
       "\n",
       "  imdbRating imdbVotes     imdbID   Type          DVD     BoxOffice  \\\n",
       "0        8.4   985,354  tt7286456  movie  03 Oct 2019  $335,451,311   \n",
       "1        8.4   985,354  tt7286456  movie  03 Oct 2019  $335,451,311   \n",
       "2        8.4   985,354  tt7286456  movie  03 Oct 2019  $335,451,311   \n",
       "\n",
       "                                          Production Website Response  \n",
       "0  Bron Studios, Creative Wealth Media Finance, D...     N/A     True  \n",
       "1  Bron Studios, Creative Wealth Media Finance, D...     N/A     True  \n",
       "2  Bron Studios, Creative Wealth Media Finance, D...     N/A     True  \n",
       "\n",
       "[3 rows x 25 columns]"
      ]
     },
     "execution_count": 22,
     "metadata": {},
     "output_type": "execute_result"
    }
   ],
   "source": [
    "import pandas as pd\n",
    "\n",
    "pd.DataFrame(data=json_data)"
   ]
  },
  {
   "cell_type": "markdown",
   "metadata": {},
   "source": [
    "#### Home Work\n",
    "- In 2019 year what are the movies relesed\n",
    "- Based on movie length get top 5 and display inside the graph"
   ]
  },
  {
   "cell_type": "markdown",
   "metadata": {},
   "source": [
    "## Exercise 2: Wikipedia API"
   ]
  },
  {
   "cell_type": "code",
   "execution_count": 42,
   "metadata": {},
   "outputs": [],
   "source": [
    "import requests\n",
    "\n",
    "url = \"\"\"https://en.wikipedia.org/w/api.php?action=query&prop=extracts&format=json&exintro=&titles=pizza\"\"\"\n",
    "response = requests.get(url)"
   ]
  },
  {
   "cell_type": "code",
   "execution_count": 43,
   "metadata": {},
   "outputs": [],
   "source": [
    "# Decode the JSON data into a dictionary: json_data\n",
    "json_data = response.json()"
   ]
  },
  {
   "cell_type": "code",
   "execution_count": 44,
   "metadata": {},
   "outputs": [
    {
     "data": {
      "text/plain": [
       "'<p class=\"mw-empty-elt\">\\n</p>\\n<p><b>Pizza</b> (<small>Italian:\\xa0</small><span title=\"Representation in the International Phonetic Alphabet (IPA)\">[ˈpittsa]</span>, <small>Neapolitan:\\xa0</small><span title=\"Representation in the International Phonetic Alphabet (IPA)\">[ˈpittsə]</span>) is a savory dish of Italian origin consisting of a usually round, flattened base of leavened wheat-based dough topped with tomatoes, cheese, and often various other ingredients (such as anchovies, mushrooms, onions, olives, pineapple, meat, etc.), which is then baked at a high temperature, traditionally in a wood-fired oven. A small pizza is sometimes called a pizzetta. A person who makes pizza is known as a <b>pizzaiolo</b>.\\n</p><p>In Italy, pizza served in formal settings, such as at a restaurant, is presented unsliced, and is eaten with the use of a knife and fork. In casual settings, however, it is cut into wedges to be eaten while held in the hand.\\n</p><p>The term <i>pizza</i> was first recorded in the 10th century in a Latin manuscript from the Southern Italian town of Gaeta in Lazio, on the border with Campania. Modern pizza was invented in Naples, and the dish and its variants have since become popular in many countries. It has become one of the most popular foods in the world and a common fast food item in Europe and North America, available at pizzerias (restaurants specializing in pizza),  restaurants offering Mediterranean cuisine, and via pizza delivery. Many companies sell ready-baked frozen pizzas to be reheated in an ordinary home oven.\\n</p><p>The <i>Associazione Verace Pizza Napoletana</i> (lit. True Neapolitan Pizza Association) is a non-profit organization founded in 1984 with headquarters in Naples that aims to promote traditional Neapolitan pizza. In 2009, upon Italy\\'s request, Neapolitan pizza was registered with the European Union as a Traditional Speciality Guaranteed dish, and in 2017 the art of its making was included on UNESCO\\'s list of intangible cultural heritage.</p>\\n\\n<!-- \\nNewPP limit report\\nParsed by mw1345\\nCached time: 20210430101348\\nCache expiry: 2592000\\nDynamic content: false\\nComplications: [vary‐revision‐sha1]\\nCPU time usage: 0.462 seconds\\nReal time usage: 0.636 seconds\\nPreprocessor visited node count: 1036/1000000\\nPost‐expand include size: 41625/2097152 bytes\\nTemplate argument size: 1223/2097152 bytes\\nHighest expansion depth: 17/40\\nExpensive parser function count: 3/500\\nUnstrip recursion depth: 0/20\\nUnstrip post‐expand size: 18297/5000000 bytes\\nLua time usage: 0.273/10.000 seconds\\nLua memory usage: 5779324/52428800 bytes\\nNumber of Wikibase entities loaded: 1/400\\n-->\\n<!--\\nTransclusion expansion time report (%,ms,calls,template)\\n100.00%  580.590      1 -total\\n 22.06%  128.055      1 Template:OED\\n 15.04%   87.306      1 Template:Short_description\\n 13.60%   78.945      1 Template:Infobox_food\\n 13.43%   77.955      1 Template:Pizza\\n 12.86%   74.676      1 Template:Sidebar_with_collapsible_lists\\n 12.84%   74.544      1 Template:Infobox\\n  9.35%   54.279      1 Template:Pagetype\\n  8.70%   50.488      1 Template:Pp-semi-indef\\n  8.62%   50.070      1 Template:Unbulleted_list\\n-->'"
      ]
     },
     "execution_count": 44,
     "metadata": {},
     "output_type": "execute_result"
    }
   ],
   "source": [
    "# Print the Wikipedia page extract\n",
    "pizza_extract = json_data['query']['pages']['24768']['extract']\n",
    "pizza_extract"
   ]
  },
  {
   "cell_type": "code",
   "execution_count": 45,
   "metadata": {},
   "outputs": [
    {
     "data": {
      "text/plain": [
       "{'batchcomplete': '',\n",
       " 'warnings': {'extracts': {'*': 'HTML may be malformed and/or unbalanced and may omit inline images. Use at your own risk. Known problems are listed at https://www.mediawiki.org/wiki/Special:MyLanguage/Extension:TextExtracts#Caveats.'}},\n",
       " 'query': {'normalized': [{'from': 'pizza', 'to': 'Pizza'}],\n",
       "  'pages': {'24768': {'pageid': 24768,\n",
       "    'ns': 0,\n",
       "    'title': 'Pizza',\n",
       "    'extract': '<p class=\"mw-empty-elt\">\\n</p>\\n<p><b>Pizza</b> (<small>Italian:\\xa0</small><span title=\"Representation in the International Phonetic Alphabet (IPA)\">[ˈpittsa]</span>, <small>Neapolitan:\\xa0</small><span title=\"Representation in the International Phonetic Alphabet (IPA)\">[ˈpittsə]</span>) is a savory dish of Italian origin consisting of a usually round, flattened base of leavened wheat-based dough topped with tomatoes, cheese, and often various other ingredients (such as anchovies, mushrooms, onions, olives, pineapple, meat, etc.), which is then baked at a high temperature, traditionally in a wood-fired oven. A small pizza is sometimes called a pizzetta. A person who makes pizza is known as a <b>pizzaiolo</b>.\\n</p><p>In Italy, pizza served in formal settings, such as at a restaurant, is presented unsliced, and is eaten with the use of a knife and fork. In casual settings, however, it is cut into wedges to be eaten while held in the hand.\\n</p><p>The term <i>pizza</i> was first recorded in the 10th century in a Latin manuscript from the Southern Italian town of Gaeta in Lazio, on the border with Campania. Modern pizza was invented in Naples, and the dish and its variants have since become popular in many countries. It has become one of the most popular foods in the world and a common fast food item in Europe and North America, available at pizzerias (restaurants specializing in pizza),  restaurants offering Mediterranean cuisine, and via pizza delivery. Many companies sell ready-baked frozen pizzas to be reheated in an ordinary home oven.\\n</p><p>The <i>Associazione Verace Pizza Napoletana</i> (lit. True Neapolitan Pizza Association) is a non-profit organization founded in 1984 with headquarters in Naples that aims to promote traditional Neapolitan pizza. In 2009, upon Italy\\'s request, Neapolitan pizza was registered with the European Union as a Traditional Speciality Guaranteed dish, and in 2017 the art of its making was included on UNESCO\\'s list of intangible cultural heritage.</p>\\n\\n<!-- \\nNewPP limit report\\nParsed by mw1345\\nCached time: 20210430101348\\nCache expiry: 2592000\\nDynamic content: false\\nComplications: [vary‐revision‐sha1]\\nCPU time usage: 0.462 seconds\\nReal time usage: 0.636 seconds\\nPreprocessor visited node count: 1036/1000000\\nPost‐expand include size: 41625/2097152 bytes\\nTemplate argument size: 1223/2097152 bytes\\nHighest expansion depth: 17/40\\nExpensive parser function count: 3/500\\nUnstrip recursion depth: 0/20\\nUnstrip post‐expand size: 18297/5000000 bytes\\nLua time usage: 0.273/10.000 seconds\\nLua memory usage: 5779324/52428800 bytes\\nNumber of Wikibase entities loaded: 1/400\\n-->\\n<!--\\nTransclusion expansion time report (%,ms,calls,template)\\n100.00%  580.590      1 -total\\n 22.06%  128.055      1 Template:OED\\n 15.04%   87.306      1 Template:Short_description\\n 13.60%   78.945      1 Template:Infobox_food\\n 13.43%   77.955      1 Template:Pizza\\n 12.86%   74.676      1 Template:Sidebar_with_collapsible_lists\\n 12.84%   74.544      1 Template:Infobox\\n  9.35%   54.279      1 Template:Pagetype\\n  8.70%   50.488      1 Template:Pp-semi-indef\\n  8.62%   50.070      1 Template:Unbulleted_list\\n-->'}}}}"
      ]
     },
     "execution_count": 45,
     "metadata": {},
     "output_type": "execute_result"
    }
   ],
   "source": [
    "json_data"
   ]
  },
  {
   "cell_type": "code",
   "execution_count": null,
   "metadata": {},
   "outputs": [],
   "source": []
  }
 ],
 "metadata": {
  "kernelspec": {
   "display_name": "Python 3",
   "language": "python",
   "name": "python3"
  },
  "language_info": {
   "codemirror_mode": {
    "name": "ipython",
    "version": 3
   },
   "file_extension": ".py",
   "mimetype": "text/x-python",
   "name": "python",
   "nbconvert_exporter": "python",
   "pygments_lexer": "ipython3",
   "version": "3.6.5"
  }
 },
 "nbformat": 4,
 "nbformat_minor": 2
}
