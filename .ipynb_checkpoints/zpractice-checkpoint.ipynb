{
 "cells": [
  {
   "cell_type": "code",
   "execution_count": 110,
   "metadata": {},
   "outputs": [
    {
     "name": "stdout",
     "output_type": "stream",
     "text": [
      "E:\\code\\5.DataAnalysisOfficial\\data\n",
      "E:\\code\\5.DataAnalysisOfficial\\data\n"
     ]
    }
   ],
   "source": [
    "import os\n",
    "\n",
    "print(os.getcwd())\n",
    "os.chdir(\"E:/code/5.DataAnalysisOfficial/data\")\n",
    "print(os.getcwd())"
   ]
  },
  {
   "cell_type": "code",
   "execution_count": 111,
   "metadata": {},
   "outputs": [
    {
     "data": {
      "text/html": [
       "<div>\n",
       "<style scoped>\n",
       "    .dataframe tbody tr th:only-of-type {\n",
       "        vertical-align: middle;\n",
       "    }\n",
       "\n",
       "    .dataframe tbody tr th {\n",
       "        vertical-align: top;\n",
       "    }\n",
       "\n",
       "    .dataframe thead th {\n",
       "        text-align: right;\n",
       "    }\n",
       "</style>\n",
       "<table border=\"1\" class=\"dataframe\">\n",
       "  <thead>\n",
       "    <tr style=\"text-align: right;\">\n",
       "      <th></th>\n",
       "      <th>RouteEvents</th>\n",
       "      <th>App_n</th>\n",
       "      <th>ModelLine</th>\n",
       "      <th>Country</th>\n",
       "      <th>Region</th>\n",
       "      <th>Platform</th>\n",
       "      <th>ModelSeries</th>\n",
       "      <th>ModelYear</th>\n",
       "      <th>BootCount</th>\n",
       "      <th>UpTime</th>\n",
       "      <th>...</th>\n",
       "      <th>numWaypoints</th>\n",
       "      <th>routeLengthMeters</th>\n",
       "      <th>RouteLengthKms</th>\n",
       "      <th>localstarttime</th>\n",
       "      <th>localendtime</th>\n",
       "      <th>PredictedArrivalTimeMin</th>\n",
       "      <th>TotalTravelTime</th>\n",
       "      <th>TotalTimeDiff</th>\n",
       "      <th>calculationTimeSec</th>\n",
       "      <th>ActualDistanceKms</th>\n",
       "    </tr>\n",
       "    <tr>\n",
       "      <th>Column1</th>\n",
       "      <th></th>\n",
       "      <th></th>\n",
       "      <th></th>\n",
       "      <th></th>\n",
       "      <th></th>\n",
       "      <th></th>\n",
       "      <th></th>\n",
       "      <th></th>\n",
       "      <th></th>\n",
       "      <th></th>\n",
       "      <th></th>\n",
       "      <th></th>\n",
       "      <th></th>\n",
       "      <th></th>\n",
       "      <th></th>\n",
       "      <th></th>\n",
       "      <th></th>\n",
       "      <th></th>\n",
       "      <th></th>\n",
       "      <th></th>\n",
       "      <th></th>\n",
       "    </tr>\n",
       "  </thead>\n",
       "  <tbody>\n",
       "    <tr>\n",
       "      <th>0</th>\n",
       "      <td>onRouteStarted</td>\n",
       "      <td>hmi_main</td>\n",
       "      <td>Edge</td>\n",
       "      <td>US</td>\n",
       "      <td>NaN</td>\n",
       "      <td>SYNC 4.0</td>\n",
       "      <td>SEL</td>\n",
       "      <td>2021</td>\n",
       "      <td>57</td>\n",
       "      <td>12441408</td>\n",
       "      <td>...</td>\n",
       "      <td>1.0</td>\n",
       "      <td>227493.0</td>\n",
       "      <td>227.49</td>\n",
       "      <td>2021-03-08 08:56:00</td>\n",
       "      <td>NaT</td>\n",
       "      <td>02:14:00</td>\n",
       "      <td>02:20:00</td>\n",
       "      <td>00:06:00</td>\n",
       "      <td>0.32</td>\n",
       "      <td>227.27</td>\n",
       "    </tr>\n",
       "    <tr>\n",
       "      <th>1</th>\n",
       "      <td>onRouteStarted</td>\n",
       "      <td>hmi_main</td>\n",
       "      <td>Edge</td>\n",
       "      <td>US</td>\n",
       "      <td>NaN</td>\n",
       "      <td>SYNC 4.0</td>\n",
       "      <td>Titanium</td>\n",
       "      <td>2021</td>\n",
       "      <td>62</td>\n",
       "      <td>6615130</td>\n",
       "      <td>...</td>\n",
       "      <td>1.0</td>\n",
       "      <td>47059.0</td>\n",
       "      <td>47.06</td>\n",
       "      <td>2021-03-30 12:49:00</td>\n",
       "      <td>NaT</td>\n",
       "      <td>00:40:00</td>\n",
       "      <td>00:41:00</td>\n",
       "      <td>00:01:00</td>\n",
       "      <td>0.67</td>\n",
       "      <td>45.18</td>\n",
       "    </tr>\n",
       "    <tr>\n",
       "      <th>2</th>\n",
       "      <td>onRouteStarted</td>\n",
       "      <td>hmi_main</td>\n",
       "      <td>Edge</td>\n",
       "      <td>US</td>\n",
       "      <td>NaN</td>\n",
       "      <td>SYNC 4.0</td>\n",
       "      <td>SEL</td>\n",
       "      <td>2021</td>\n",
       "      <td>78</td>\n",
       "      <td>9863966</td>\n",
       "      <td>...</td>\n",
       "      <td>1.0</td>\n",
       "      <td>22178.0</td>\n",
       "      <td>22.18</td>\n",
       "      <td>2021-03-28 15:16:00</td>\n",
       "      <td>NaT</td>\n",
       "      <td>00:25:00</td>\n",
       "      <td>00:23:00</td>\n",
       "      <td>1903-12-31 23:58:00</td>\n",
       "      <td>0.40</td>\n",
       "      <td>22.11</td>\n",
       "    </tr>\n",
       "    <tr>\n",
       "      <th>3</th>\n",
       "      <td>onRouteStarted</td>\n",
       "      <td>hmi_main</td>\n",
       "      <td>Mustang Mach-E</td>\n",
       "      <td>US</td>\n",
       "      <td>NaN</td>\n",
       "      <td>SYNC 4.0</td>\n",
       "      <td>Premium</td>\n",
       "      <td>2021</td>\n",
       "      <td>398</td>\n",
       "      <td>45046118</td>\n",
       "      <td>...</td>\n",
       "      <td>1.0</td>\n",
       "      <td>68385.0</td>\n",
       "      <td>68.39</td>\n",
       "      <td>2025-03-27 17:31:00</td>\n",
       "      <td>NaT</td>\n",
       "      <td>00:42:00</td>\n",
       "      <td>00:43:00</td>\n",
       "      <td>00:01:00</td>\n",
       "      <td>0.83</td>\n",
       "      <td>67.57</td>\n",
       "    </tr>\n",
       "    <tr>\n",
       "      <th>4</th>\n",
       "      <td>onRouteStarted</td>\n",
       "      <td>hmi_main</td>\n",
       "      <td>Mustang Mach-E</td>\n",
       "      <td>US</td>\n",
       "      <td>NaN</td>\n",
       "      <td>SYNC 4.0</td>\n",
       "      <td>Premium</td>\n",
       "      <td>2021</td>\n",
       "      <td>421</td>\n",
       "      <td>46371966</td>\n",
       "      <td>...</td>\n",
       "      <td>1.0</td>\n",
       "      <td>40177.0</td>\n",
       "      <td>40.18</td>\n",
       "      <td>2025-03-30 17:35:00</td>\n",
       "      <td>NaT</td>\n",
       "      <td>00:30:00</td>\n",
       "      <td>00:36:00</td>\n",
       "      <td>00:06:00</td>\n",
       "      <td>0.95</td>\n",
       "      <td>40.15</td>\n",
       "    </tr>\n",
       "  </tbody>\n",
       "</table>\n",
       "<p>5 rows × 35 columns</p>\n",
       "</div>"
      ],
      "text/plain": [
       "            RouteEvents     App_n       ModelLine Country Region  Platform  \\\n",
       "Column1                                                                      \n",
       "0        onRouteStarted  hmi_main            Edge      US    NaN  SYNC 4.0   \n",
       "1        onRouteStarted  hmi_main            Edge      US    NaN  SYNC 4.0   \n",
       "2        onRouteStarted  hmi_main            Edge      US    NaN  SYNC 4.0   \n",
       "3        onRouteStarted  hmi_main  Mustang Mach-E      US    NaN  SYNC 4.0   \n",
       "4        onRouteStarted  hmi_main  Mustang Mach-E      US    NaN  SYNC 4.0   \n",
       "\n",
       "        ModelSeries  ModelYear  BootCount    UpTime  ... numWaypoints  \\\n",
       "Column1                                              ...                \n",
       "0               SEL       2021         57  12441408  ...          1.0   \n",
       "1          Titanium       2021         62   6615130  ...          1.0   \n",
       "2               SEL       2021         78   9863966  ...          1.0   \n",
       "3           Premium       2021        398  45046118  ...          1.0   \n",
       "4           Premium       2021        421  46371966  ...          1.0   \n",
       "\n",
       "        routeLengthMeters  RouteLengthKms      localstarttime  localendtime  \\\n",
       "Column1                                                                       \n",
       "0                227493.0          227.49 2021-03-08 08:56:00           NaT   \n",
       "1                 47059.0           47.06 2021-03-30 12:49:00           NaT   \n",
       "2                 22178.0           22.18 2021-03-28 15:16:00           NaT   \n",
       "3                 68385.0           68.39 2025-03-27 17:31:00           NaT   \n",
       "4                 40177.0           40.18 2025-03-30 17:35:00           NaT   \n",
       "\n",
       "         PredictedArrivalTimeMin  TotalTravelTime        TotalTimeDiff  \\\n",
       "Column1                                                                  \n",
       "0                       02:14:00         02:20:00             00:06:00   \n",
       "1                       00:40:00         00:41:00             00:01:00   \n",
       "2                       00:25:00         00:23:00  1903-12-31 23:58:00   \n",
       "3                       00:42:00         00:43:00             00:01:00   \n",
       "4                       00:30:00         00:36:00             00:06:00   \n",
       "\n",
       "         calculationTimeSec  ActualDistanceKms  \n",
       "Column1                                         \n",
       "0                      0.32             227.27  \n",
       "1                      0.67              45.18  \n",
       "2                      0.40              22.11  \n",
       "3                      0.83              67.57  \n",
       "4                      0.95              40.15  \n",
       "\n",
       "[5 rows x 35 columns]"
      ]
     },
     "execution_count": 111,
     "metadata": {},
     "output_type": "execute_result"
    }
   ],
   "source": [
    "import pandas as pd\n",
    "import numpy as np\n",
    "\n",
    "df = pd.read_excel(\"RESCMC1.xlsx\", index_col=\"Column1\")\n",
    "df.head()"
   ]
  },
  {
   "cell_type": "code",
   "execution_count": 139,
   "metadata": {},
   "outputs": [
    {
     "data": {
      "text/plain": [
       "Column1\n",
       "0     134 21665954589844\n",
       "1      40 71666717529297\n",
       "2     25 100000381469727\n",
       "3      42 16666793823242\n",
       "4     30 433332443237305\n",
       "5      17 66666603088379\n",
       "6     4 2833333015441895\n",
       "7     2 9666666984558105\n",
       "8     10 833333015441895\n",
       "9                 117 25\n",
       "10    21 149999618530273\n",
       "11     8 316666603088379\n",
       "12     3 116666555404663\n",
       "13    14 983333587646484\n",
       "14     19 21666717529297\n",
       "15                   NaN\n",
       "16                   NaN\n",
       "17                   NaN\n",
       "18                   NaN\n",
       "19                   NaN\n",
       "20                   NaN\n",
       "21                   NaN\n",
       "22                   NaN\n",
       "23                   NaN\n",
       "24                   NaN\n",
       "25                   NaN\n",
       "26                   NaN\n",
       "27                   NaN\n",
       "28                   NaN\n",
       "29                   NaN\n",
       "Name: predictedArrivalTime, dtype: object"
      ]
     },
     "execution_count": 139,
     "metadata": {},
     "output_type": "execute_result"
    }
   ],
   "source": [
    "df['predictedArrivalTime']"
   ]
  },
  {
   "cell_type": "code",
   "execution_count": 145,
   "metadata": {},
   "outputs": [
    {
     "name": "stdout",
     "output_type": "stream",
     "text": [
      "<class 'pandas.core.series.Series'>\n"
     ]
    },
    {
     "data": {
      "text/plain": [
       "Column1\n",
       "0     134.21665954589844\n",
       "1      40.71666717529297\n",
       "2     25.100000381469727\n",
       "3      42.16666793823242\n",
       "4     30.433332443237305\n",
       "5      17.66666603088379\n",
       "6     4.2833333015441895\n",
       "7     2.9666666984558105\n",
       "8     10.833333015441895\n",
       "9                 117.25\n",
       "10    21.149999618530273\n",
       "11     8.316666603088379\n",
       "12     3.116666555404663\n",
       "13    14.983333587646484\n",
       "14     19.21666717529297\n",
       "15                   NaN\n",
       "16                   NaN\n",
       "17                   NaN\n",
       "18                   NaN\n",
       "19                   NaN\n",
       "20                   NaN\n",
       "21                   NaN\n",
       "22                   NaN\n",
       "23                   NaN\n",
       "24                   NaN\n",
       "25                   NaN\n",
       "26                   NaN\n",
       "27                   NaN\n",
       "28                   NaN\n",
       "29                   NaN\n",
       "Name: predictedArrivalTime, dtype: object"
      ]
     },
     "execution_count": 145,
     "metadata": {},
     "output_type": "execute_result"
    }
   ],
   "source": [
    "a = df['predictedArrivalTime'].str.replace(\" \",'.')\n",
    "print(type(a))\n",
    "a"
   ]
  },
  {
   "cell_type": "code",
   "execution_count": 151,
   "metadata": {},
   "outputs": [],
   "source": [
    "a_ser = a.replace(np.NAN,0)"
   ]
  },
  {
   "cell_type": "code",
   "execution_count": 152,
   "metadata": {},
   "outputs": [
    {
     "data": {
      "text/plain": [
       "array(['134.21665954589844', '40.71666717529297', '25.100000381469727',\n",
       "       '42.16666793823242', '30.433332443237305', '17.66666603088379',\n",
       "       '4.2833333015441895', '2.9666666984558105', '10.833333015441895',\n",
       "       '117.25', '21.149999618530273', '8.316666603088379',\n",
       "       '3.116666555404663', '14.983333587646484', '19.21666717529297', 0,\n",
       "       0, 0, 0, 0, 0, 0, 0, 0, 0, 0, 0, 0, 0, 0], dtype=object)"
      ]
     },
     "execution_count": 152,
     "metadata": {},
     "output_type": "execute_result"
    }
   ],
   "source": [
    "a_arr = a_ser.values\n",
    "a_arr"
   ]
  },
  {
   "cell_type": "code",
   "execution_count": 153,
   "metadata": {},
   "outputs": [
    {
     "data": {
      "text/plain": [
       "array([134.21665955,  40.71666718,  25.10000038,  42.16666794,\n",
       "        30.43333244,  17.66666603,   4.2833333 ,   2.9666667 ,\n",
       "        10.83333302, 117.25      ,  21.14999962,   8.3166666 ,\n",
       "         3.11666656,  14.98333359,  19.21666718,   0.        ,\n",
       "         0.        ,   0.        ,   0.        ,   0.        ,\n",
       "         0.        ,   0.        ,   0.        ,   0.        ,\n",
       "         0.        ,   0.        ,   0.        ,   0.        ,\n",
       "         0.        ,   0.        ])"
      ]
     },
     "execution_count": 153,
     "metadata": {},
     "output_type": "execute_result"
    }
   ],
   "source": [
    "x_pred = a_arr.astype('float')\n",
    "x_pred"
   ]
  },
  {
   "cell_type": "code",
   "execution_count": 156,
   "metadata": {},
   "outputs": [
    {
     "data": {
      "text/plain": [
       "16.41388866901398"
      ]
     },
     "execution_count": 156,
     "metadata": {},
     "output_type": "execute_result"
    }
   ],
   "source": [
    "x_pred_mean = np.mean(x_pred)\n",
    "x_pred_mean"
   ]
  },
  {
   "cell_type": "code",
   "execution_count": 158,
   "metadata": {},
   "outputs": [],
   "source": [
    "x_pred_ser = pd.Series(x_pred)"
   ]
  },
  {
   "cell_type": "code",
   "execution_count": 192,
   "metadata": {},
   "outputs": [
    {
     "data": {
      "text/plain": [
       "0     134.22\n",
       "1      40.72\n",
       "2      25.10\n",
       "3      42.17\n",
       "4      30.43\n",
       "5      17.67\n",
       "6       4.28\n",
       "7       2.97\n",
       "8      10.83\n",
       "9     117.25\n",
       "10     21.15\n",
       "11      8.32\n",
       "12      3.12\n",
       "13     14.98\n",
       "14     19.22\n",
       "15     16.41\n",
       "16     16.41\n",
       "17     16.41\n",
       "18     16.41\n",
       "19     16.41\n",
       "20     16.41\n",
       "21     16.41\n",
       "22     16.41\n",
       "23     16.41\n",
       "24     16.41\n",
       "25     16.41\n",
       "26     16.41\n",
       "27     16.41\n",
       "28     16.41\n",
       "29     16.41\n",
       "dtype: float64"
      ]
     },
     "execution_count": 192,
     "metadata": {},
     "output_type": "execute_result"
    }
   ],
   "source": [
    "x_values = x_pred_ser.replace(0,x_pred_mean)\n",
    "round(x_values,2)"
   ]
  },
  {
   "cell_type": "code",
   "execution_count": 189,
   "metadata": {},
   "outputs": [
    {
     "data": {
      "text/plain": [
       "array([134.21665955,  40.71666718,  25.10000038,  42.16666794,\n",
       "        30.43333244,  17.66666603,   4.2833333 ,   2.9666667 ,\n",
       "        10.83333302, 117.25      ,  21.14999962,   8.3166666 ,\n",
       "         3.11666656,  14.98333359,  19.21666718,  16.41388867,\n",
       "        16.41388867,  16.41388867,  16.41388867,  16.41388867,\n",
       "        16.41388867,  16.41388867,  16.41388867,  16.41388867,\n",
       "        16.41388867,  16.41388867,  16.41388867,  16.41388867,\n",
       "        16.41388867,  16.41388867])"
      ]
     },
     "execution_count": 189,
     "metadata": {},
     "output_type": "execute_result"
    }
   ],
   "source": [
    "x_pred_arr = x_values.values\n",
    "x_pred_arr"
   ]
  },
  {
   "cell_type": "code",
   "execution_count": 165,
   "metadata": {},
   "outputs": [
    {
     "data": {
      "text/plain": [
       "Column1\n",
       "0              NaN\n",
       "1              NaN\n",
       "2              NaN\n",
       "3              NaN\n",
       "4              NaN\n",
       "5              NaN\n",
       "6              NaN\n",
       "7              NaN\n",
       "8              NaN\n",
       "9              NaN\n",
       "10             NaN\n",
       "11             NaN\n",
       "12             NaN\n",
       "13             NaN\n",
       "14             NaN\n",
       "15    1.615134e+12\n",
       "16    1.617039e+12\n",
       "17    1.616874e+12\n",
       "18    1.616797e+12\n",
       "19    1.617056e+12\n",
       "20    1.616792e+12\n",
       "21    1.617053e+12\n",
       "22    1.616184e+12\n",
       "23    1.615999e+12\n",
       "24    1.616395e+12\n",
       "25    1.617198e+12\n",
       "26    1.614634e+12\n",
       "27    1.611250e+12\n",
       "28    1.610125e+12\n",
       "29    1.610122e+12\n",
       "Name: actualArrivalTime, dtype: float64"
      ]
     },
     "execution_count": 165,
     "metadata": {},
     "output_type": "execute_result"
    }
   ],
   "source": [
    "b = df['actualArrivalTime']\n",
    "b"
   ]
  },
  {
   "cell_type": "code",
   "execution_count": 166,
   "metadata": {},
   "outputs": [
    {
     "name": "stdout",
     "output_type": "stream",
     "text": [
      "Column1\n",
      "0     1.615243e+12\n",
      "1     1.615243e+12\n",
      "2     1.615243e+12\n",
      "3     1.615243e+12\n",
      "4     1.615243e+12\n",
      "5     1.615243e+12\n",
      "6     1.615243e+12\n",
      "7     1.615243e+12\n",
      "8     1.615243e+12\n",
      "9     1.615243e+12\n",
      "10    1.615243e+12\n",
      "11    1.615243e+12\n",
      "12    1.615243e+12\n",
      "13    1.615243e+12\n",
      "14    1.615243e+12\n",
      "15    1.615134e+12\n",
      "16    1.617039e+12\n",
      "17    1.616874e+12\n",
      "18    1.616797e+12\n",
      "19    1.617056e+12\n",
      "20    1.616792e+12\n",
      "21    1.617053e+12\n",
      "22    1.616184e+12\n",
      "23    1.615999e+12\n",
      "24    1.616395e+12\n",
      "25    1.617198e+12\n",
      "26    1.614634e+12\n",
      "27    1.611250e+12\n",
      "28    1.610125e+12\n",
      "29    1.610122e+12\n",
      "Name: actualArrivalTime, dtype: float64\n"
     ]
    }
   ],
   "source": [
    "b_ser = b.replace(np.NAN,np.mean(df['actualArrivalTime']))\n",
    "print(b_ser)"
   ]
  },
  {
   "cell_type": "code",
   "execution_count": 167,
   "metadata": {},
   "outputs": [
    {
     "data": {
      "text/plain": [
       "array([1.61524343e+12, 1.61524343e+12, 1.61524343e+12, 1.61524343e+12,\n",
       "       1.61524343e+12, 1.61524343e+12, 1.61524343e+12, 1.61524343e+12,\n",
       "       1.61524343e+12, 1.61524343e+12, 1.61524343e+12, 1.61524343e+12,\n",
       "       1.61524343e+12, 1.61524343e+12, 1.61524343e+12, 1.61513381e+12,\n",
       "       1.61703901e+12, 1.61687395e+12, 1.61679688e+12, 1.61705591e+12,\n",
       "       1.61679238e+12, 1.61705255e+12, 1.61618406e+12, 1.61599908e+12,\n",
       "       1.61639545e+12, 1.61719761e+12, 1.61463385e+12, 1.61125016e+12,\n",
       "       1.61012477e+12, 1.61012197e+12])"
      ]
     },
     "execution_count": 167,
     "metadata": {},
     "output_type": "execute_result"
    }
   ],
   "source": [
    "b_arrival = b_ser.values\n",
    "b_arrival"
   ]
  },
  {
   "cell_type": "code",
   "execution_count": 168,
   "metadata": {},
   "outputs": [
    {
     "name": "stdout",
     "output_type": "stream",
     "text": [
      "[1615243428820.7334, 1615243428820.7334, 1615243428820.7334, 1615243428820.7334, 1615243428820.7334, 1615243428820.7334, 1615243428820.7334, 1615243428820.7334, 1615243428820.7334, 1615243428820.7334, 1615243428820.7334, 1615243428820.7334, 1615243428820.7334, 1615243428820.7334, 1615243428820.7334, 1615133811547.0, 1617039013082.0, 1616873945676.0, 1616796884647.0, 1617055905060.0, 1616792382636.0, 1617052548534.0, 1616184060639.0, 1615999076914.0, 1616395447391.0, 1617197614763.0, 1614633846131.0, 1611250157703.0, 1610124768146.0, 1610121969442.0]\n"
     ]
    }
   ],
   "source": [
    "b_list = b_arrival.tolist()\n",
    "print(b_list)"
   ]
  },
  {
   "cell_type": "code",
   "execution_count": 169,
   "metadata": {},
   "outputs": [
    {
     "data": {
      "text/plain": [
       "['2021-03-09 04:13',\n",
       " '2021-03-09 04:13',\n",
       " '2021-03-09 04:13',\n",
       " '2021-03-09 04:13',\n",
       " '2021-03-09 04:13',\n",
       " '2021-03-09 04:13',\n",
       " '2021-03-09 04:13',\n",
       " '2021-03-09 04:13',\n",
       " '2021-03-09 04:13',\n",
       " '2021-03-09 04:13',\n",
       " '2021-03-09 04:13',\n",
       " '2021-03-09 04:13',\n",
       " '2021-03-09 04:13',\n",
       " '2021-03-09 04:13',\n",
       " '2021-03-09 04:13',\n",
       " '2021-03-07 21:46',\n",
       " '2021-03-29 23:00',\n",
       " '2021-03-28 01:09',\n",
       " '2021-03-27 03:44',\n",
       " '2021-03-30 03:41',\n",
       " '2021-03-27 02:29',\n",
       " '2021-03-30 02:45',\n",
       " '2021-03-20 01:31',\n",
       " '2021-03-17 22:07',\n",
       " '2021-03-22 12:14',\n",
       " '2021-03-31 19:03',\n",
       " '2021-03-02 02:54',\n",
       " '2021-01-21 22:59',\n",
       " '2021-01-08 22:22',\n",
       " '2021-01-08 21:36']"
      ]
     },
     "execution_count": 169,
     "metadata": {},
     "output_type": "execute_result"
    }
   ],
   "source": [
    "import datetime\n",
    "\n",
    "new_b_list=[]\n",
    "for i in b_list:\n",
    "    epoch = i/1000.0\n",
    "    localtime = datetime.datetime.fromtimestamp(epoch).strftime(\"%Y-%m-%d %H:%M\")\n",
    "    new_b_list.append(localtime)\n",
    "    \n",
    "new_b_list"
   ]
  },
  {
   "cell_type": "code",
   "execution_count": 170,
   "metadata": {},
   "outputs": [
    {
     "name": "stdout",
     "output_type": "stream",
     "text": [
      "['04:13', '04:13', '04:13', '04:13', '04:13', '04:13', '04:13', '04:13', '04:13', '04:13', '04:13', '04:13', '04:13', '04:13', '04:13', '21:46', '23:00', '01:09', '03:44', '03:41', '02:29', '02:45', '01:31', '22:07', '12:14', '19:03', '02:54', '22:59', '22:22', '21:36']\n"
     ]
    }
   ],
   "source": [
    "time_list = [x.split(\" \")[1] for x in new_b_list]\n",
    "print(time_list)"
   ]
  },
  {
   "cell_type": "code",
   "execution_count": 171,
   "metadata": {},
   "outputs": [
    {
     "data": {
      "text/plain": [
       "array([ 253,  253,  253,  253,  253,  253,  253,  253,  253,  253,  253,\n",
       "        253,  253,  253,  253, 1306, 1380,   69,  224,  221,  149,  165,\n",
       "         91, 1327,  734, 1143,  174, 1379, 1342, 1296])"
      ]
     },
     "execution_count": 171,
     "metadata": {},
     "output_type": "execute_result"
    }
   ],
   "source": [
    "import numpy as np\n",
    "\n",
    "b_arrival_arr = np.array([int(x.split(':')[0])*60+int(x.split(':')[1]) for x in time_list])\n",
    "b_arrival_arr"
   ]
  },
  {
   "cell_type": "code",
   "execution_count": 185,
   "metadata": {},
   "outputs": [
    {
     "data": {
      "text/plain": [
       "array([ 118.78334045,  212.28333282,  227.89999962,  210.83333206,\n",
       "        222.56666756,  235.33333397,  248.7166667 ,  250.0333333 ,\n",
       "        242.16666698,  135.75      ,  231.85000038,  244.6833334 ,\n",
       "        249.88333344,  238.01666641,  233.78333282, 1289.58611133,\n",
       "       1363.58611133,   52.58611133,  207.58611133,  204.58611133,\n",
       "        132.58611133,  148.58611133,   74.58611133, 1310.58611133,\n",
       "        717.58611133, 1126.58611133,  157.58611133, 1362.58611133,\n",
       "       1325.58611133, 1279.58611133])"
      ]
     },
     "execution_count": 185,
     "metadata": {},
     "output_type": "execute_result"
    }
   ],
   "source": [
    "result = b_arrival_arr-x_pred_arr\n",
    "result"
   ]
  },
  {
   "cell_type": "code",
   "execution_count": null,
   "metadata": {},
   "outputs": [],
   "source": []
  },
  {
   "cell_type": "code",
   "execution_count": 186,
   "metadata": {},
   "outputs": [
    {
     "data": {
      "image/png": "[encoded data removed]",
      "text/plain": [
       "<Figure size 432x288 with 1 Axes>"
      ]
     },
     "metadata": {
      "needs_background": "light"
     },
     "output_type": "display_data"
    }
   ],
   "source": [
    "import matplotlib.pyplot as plt\n",
    "\n",
    "plt.plot(x_pred_arr,b_arrival_arr,'ro--')\n",
    "plt.title(\"time series analysis\")\n",
    "plt.xlabel(\"predicted arrival time\")\n",
    "plt.ylabel(\"actual arrival time\")\n",
    "plt.show()"
   ]
  },
  {
   "cell_type": "code",
   "execution_count": 187,
   "metadata": {},
   "outputs": [
    {
     "data": {
      "text/plain": [
       "(array([ 7., 15.,  0.,  0.,  0.,  1.,  0.,  0.,  1.,  6.]),\n",
       " array([  52.58611133,  183.68611133,  314.78611133,  445.88611133,\n",
       "         576.98611133,  708.08611133,  839.18611133,  970.28611133,\n",
       "        1101.38611133, 1232.48611133, 1363.58611133]),\n",
       " <a list of 10 Patch objects>)"
      ]
     },
     "execution_count": 187,
     "metadata": {},
     "output_type": "execute_result"
    },
    {
     "data": {
      "image/png": "[encoded data removed]",
      "text/plain": [
       "<Figure size 432x288 with 1 Axes>"
      ]
     },
     "metadata": {
      "needs_background": "light"
     },
     "output_type": "display_data"
    }
   ],
   "source": [
    "plt.hist(result)\n"
   ]
  },
  {
   "cell_type": "code",
   "execution_count": null,
   "metadata": {},
   "outputs": [],
   "source": []
  }
 ],
 "metadata": {
  "kernelspec": {
   "display_name": "Python 3",
   "language": "python",
   "name": "python3"
  },
  "language_info": {
   "codemirror_mode": {
    "name": "ipython",
    "version": 3
   },
   "file_extension": ".py",
   "mimetype": "text/x-python",
   "name": "python",
   "nbconvert_exporter": "python",
   "pygments_lexer": "ipython3",
   "version": "3.6.5"
  }
 },
 "nbformat": 4,
 "nbformat_minor": 2
}
