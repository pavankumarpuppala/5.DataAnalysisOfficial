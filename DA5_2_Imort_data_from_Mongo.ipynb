{
 "cells": [
  {
   "cell_type": "markdown",
   "metadata": {},
   "source": [
    "## Read Data from Mongo DB"
   ]
  },
  {
   "cell_type": "markdown",
   "metadata": {},
   "source": [
    "1.Note: If you did not install software ,please install\n",
    "    <a>https://www.mongodb.com/download-center/community</a>"
   ]
  },
  {
   "cell_type": "markdown",
   "metadata": {},
   "source": [
    "3 types of db's\n",
    "- sql(oracle, terdata)\n",
    "- No sql( we can communicate withSql or any other languages like mongo db, HBase)"
   ]
  },
  {
   "cell_type": "markdown",
   "metadata": {},
   "source": [
    "## 1.1 List Databases of Mongo DB"
   ]
  },
  {
   "cell_type": "code",
   "execution_count": 13,
   "metadata": {},
   "outputs": [
    {
     "data": {
      "text/plain": [
       "['admin', 'config', 'local', 'mydemo', 'pavandb']"
      ]
     },
     "execution_count": 13,
     "metadata": {},
     "output_type": "execute_result"
    }
   ],
   "source": [
    "import pymongo\n",
    "# if error \"module not found\"\n",
    "# conda install -c anaconda pymongo\n",
    "myclient = pymongo.MongoClient(u\"mongodb://localhost:27017/\")\n",
    "myclient.list_database_names()"
   ]
  },
  {
   "cell_type": "code",
   "execution_count": 14,
   "metadata": {},
   "outputs": [
    {
     "data": {
      "text/plain": [
       "5"
      ]
     },
     "execution_count": 14,
     "metadata": {},
     "output_type": "execute_result"
    }
   ],
   "source": [
    "len(myclient.list_database_names())"
   ]
  },
  {
   "cell_type": "markdown",
   "metadata": {},
   "source": [
    "## 1.2 DB will not created until a collection(table) is created"
   ]
  },
  {
   "cell_type": "code",
   "execution_count": 15,
   "metadata": {},
   "outputs": [],
   "source": [
    "mydb = myclient[\"organization\"]"
   ]
  },
  {
   "cell_type": "code",
   "execution_count": 18,
   "metadata": {},
   "outputs": [
    {
     "name": "stdout",
     "output_type": "stream",
     "text": [
      "db not exists\n"
     ]
    }
   ],
   "source": [
    "dblist = myclient.list_database_names()\n",
    "if \"organization\" in dblist:\n",
    "    print(\"db exists\")\n",
    "else:\n",
    "    print(\"db not exists\")"
   ]
  },
  {
   "cell_type": "markdown",
   "metadata": {},
   "source": [
    "## 1.3 create a collection(aka row)"
   ]
  },
  {
   "cell_type": "code",
   "execution_count": 19,
   "metadata": {},
   "outputs": [],
   "source": [
    "mycol = mydb[\"student\"]"
   ]
  },
  {
   "cell_type": "code",
   "execution_count": 21,
   "metadata": {},
   "outputs": [
    {
     "name": "stdout",
     "output_type": "stream",
     "text": [
      "collection does not exists\n"
     ]
    }
   ],
   "source": [
    "colist = mydb.list_collection_names()\n",
    "if \"student\" in colist:\n",
    "    print(\"collection exists\")\n",
    "else:\n",
    "    print(\"collection does not exists\")"
   ]
  },
  {
   "cell_type": "markdown",
   "metadata": {},
   "source": [
    "## 1.4 Insert Documents(aka Rows) in Collection"
   ]
  },
  {
   "cell_type": "code",
   "execution_count": 28,
   "metadata": {},
   "outputs": [
    {
     "name": "stdout",
     "output_type": "stream",
     "text": [
      "5ed0e52f3312be780bdb6623\n"
     ]
    }
   ],
   "source": [
    "mydict = {\"name\":\"pawan\",\"age\":\"25\",\"qual\":\"mech\",\"phone\":\"8143\"}\n",
    "x = mycol.insert_one(mydict)\n",
    "print(x.inserted_id)"
   ]
  },
  {
   "cell_type": "markdown",
   "metadata": {},
   "source": [
    "#### multiple Documents"
   ]
  },
  {
   "cell_type": "code",
   "execution_count": 101,
   "metadata": {},
   "outputs": [],
   "source": [
    "mylist = [{\"name\":\"kiran\",\"age\":\"28\",\"qual\":\"ecce\",\"phone\":\"9700\"},\n",
    "         {\"name\":\"vijay\",\"age\":\"27\",\"qual\":\"csc\",\"phone\":\"8125\"},\n",
    "         {\"name\":\"teja\",\"age\":\"29\",\"qual\":\"csc\",\"phone\":\"9600\"},\n",
    "         {\"name\":\"sudheer\",\"age\":\"26\",\"qual\":\"mba\",\"phone\":\"9133\"},\n",
    "         {\"name\":\"swamy\",\"age\":\"26\",\"qual\":\"csc\",\"phone\":\"9123\"},\n",
    "         {\"name\":\"chandu\",\"age\":\"26\",\"qual\":\"mech\",\"phone\":\"8150\"}]"
   ]
  },
  {
   "cell_type": "code",
   "execution_count": 102,
   "metadata": {},
   "outputs": [
    {
     "name": "stdout",
     "output_type": "stream",
     "text": [
      "[ObjectId('5ed105333312be780bdb6637'), ObjectId('5ed105333312be780bdb6638'), ObjectId('5ed105333312be780bdb6639'), ObjectId('5ed105333312be780bdb663a'), ObjectId('5ed105333312be780bdb663b'), ObjectId('5ed105333312be780bdb663c')]\n"
     ]
    }
   ],
   "source": [
    "y = mycol.insert_many(mylist)\n",
    "print(y.inserted_ids)"
   ]
  },
  {
   "cell_type": "code",
   "execution_count": 105,
   "metadata": {},
   "outputs": [
    {
     "name": "stdout",
     "output_type": "stream",
     "text": [
      "collection exists\n"
     ]
    }
   ],
   "source": [
    "colist = mydb.list_collection_names()\n",
    "if \"student\" in colist:\n",
    "    print(\"collection exists\")\n",
    "else:\n",
    "    print(\"collection does not exists\")"
   ]
  },
  {
   "cell_type": "markdown",
   "metadata": {},
   "source": [
    "## 1.5 Read mongo collection"
   ]
  },
  {
   "cell_type": "code",
   "execution_count": 42,
   "metadata": {},
   "outputs": [
    {
     "name": "stdout",
     "output_type": "stream",
     "text": [
      "{'_id': ObjectId('5ed0e52f3312be780bdb6623'), 'name': 'pawan', 'age': '25', 'qual': 'mech', 'phone': '8143'}\n"
     ]
    }
   ],
   "source": [
    "a = mycol.find_one()\n",
    "print(a)"
   ]
  },
  {
   "cell_type": "code",
   "execution_count": 44,
   "metadata": {},
   "outputs": [
    {
     "name": "stdout",
     "output_type": "stream",
     "text": [
      "{'_id': ObjectId('5ed0e52f3312be780bdb6623'), 'name': 'pawan', 'age': '25', 'qual': 'mech', 'phone': '8143'}\n",
      "{'_id': ObjectId('5ed0e5333312be780bdb6624'), 'name': 'kiran', 'age': '28', 'qual': 'ecce', 'phone': '9700'}\n",
      "{'_id': ObjectId('5ed0e5333312be780bdb6625'), 'name': 'vijay', 'age': '27', 'qual': 'csc', 'phone': '8125'}\n",
      "{'_id': ObjectId('5ed0e5333312be780bdb6626'), 'name': 'teja', 'age': '29', 'qual': 'csc', 'phone': '9600'}\n",
      "{'_id': ObjectId('5ed0e5333312be780bdb6627'), 'name': 'sudheer', 'age': '26', 'qual': 'mba', 'phone': '9133'}\n",
      "{'_id': ObjectId('5ed0e5333312be780bdb6628'), 'name': 'swamy', 'age': '26', 'qual': 'csc', 'phone': '9123'}\n",
      "{'_id': ObjectId('5ed0e5333312be780bdb6629'), 'name': 'chandu', 'age': '26', 'qual': 'mech', 'phone': '8150'}\n"
     ]
    }
   ],
   "source": [
    "for b in mycol.find():\n",
    "    print(b)"
   ]
  },
  {
   "cell_type": "code",
   "execution_count": 98,
   "metadata": {},
   "outputs": [
    {
     "name": "stdout",
     "output_type": "stream",
     "text": [
      "{'name': 'pawan', 'age': '25', 'qual': 'mech', 'phone': '8143'}\n",
      "{'name': 'kiran', 'age': '28', 'qual': 'ecce', 'phone': '9700'}\n",
      "{'name': 'vijay', 'age': '27', 'qual': 'csc', 'phone': '8125'}\n",
      "{'name': 'teja', 'age': '29', 'qual': 'csc', 'phone': '9600'}\n",
      "{'name': 'sudheer', 'age': '26', 'qual': 'mba', 'phone': '9133'}\n",
      "{'name': 'swamy', 'age': '26', 'qual': 'csc', 'phone': '9123'}\n",
      "{'name': 'chandu', 'age': '26', 'qual': 'mech', 'phone': '8150'}\n"
     ]
    }
   ],
   "source": [
    "for c in mycol.find({},{\"_id\":0}):\n",
    "    print(c)"
   ]
  },
  {
   "cell_type": "code",
   "execution_count": 47,
   "metadata": {},
   "outputs": [
    {
     "name": "stdout",
     "output_type": "stream",
     "text": [
      "{'name': 'pawan', 'age': '25'}\n",
      "{'name': 'kiran', 'age': '28'}\n",
      "{'name': 'vijay', 'age': '27'}\n",
      "{'name': 'teja', 'age': '29'}\n",
      "{'name': 'sudheer', 'age': '26'}\n",
      "{'name': 'swamy', 'age': '26'}\n",
      "{'name': 'chandu', 'age': '26'}\n"
     ]
    }
   ],
   "source": [
    "for d in mycol.find({},{\"_id\":0,\"name\":1,\"age\":1}):\n",
    "    print(d)"
   ]
  },
  {
   "cell_type": "code",
   "execution_count": 79,
   "metadata": {},
   "outputs": [],
   "source": [
    "#You get an error if you specify both 0 and 1 values in the same object (except if one of the fields is the _id field):\n",
    "#for d in mycol.find({},{\"name\":1,\"age\":0}):\n",
    "#    print(d)"
   ]
  },
  {
   "cell_type": "markdown",
   "metadata": {},
   "source": [
    "#### Read mongo collection in dict format"
   ]
  },
  {
   "cell_type": "code",
   "execution_count": 80,
   "metadata": {},
   "outputs": [
    {
     "data": {
      "text/plain": [
       "[{'name': 'pawan', 'age': '25', 'qual': 'mech', 'phone': '8143'},\n",
       " {'name': 'kiran', 'age': '28', 'qual': 'ecce', 'phone': '9700'},\n",
       " {'name': 'vijay', 'age': '27', 'qual': 'csc', 'phone': '8125'},\n",
       " {'name': 'teja', 'age': '29', 'qual': 'csc', 'phone': '9600'},\n",
       " {'name': 'sudheer', 'age': '26', 'qual': 'mba', 'phone': '9133'},\n",
       " {'name': 'swamy', 'age': '26', 'qual': 'csc', 'phone': '9123'},\n",
       " {'name': 'chandu', 'age': '26', 'qual': 'mech', 'phone': '8150'}]"
      ]
     },
     "execution_count": 80,
     "metadata": {},
     "output_type": "execute_result"
    }
   ],
   "source": [
    "output = []\n",
    "for q in mycol.find():\n",
    "        output.append({'name':q['name'], 'age':q['age'], 'qual':q['qual'], 'phone':q['phone']})\n",
    "output"
   ]
  },
  {
   "cell_type": "markdown",
   "metadata": {},
   "source": [
    "## 2. load data from Json file"
   ]
  },
  {
   "cell_type": "code",
   "execution_count": 83,
   "metadata": {},
   "outputs": [
    {
     "data": {
      "text/plain": [
       "{'Name': 'Test',\n",
       " 'Mobile': 12345678,\n",
       " 'Boolean': True,\n",
       " 'Pets': ['Dog', 'cat'],\n",
       " 'Address': {'Permanent address': 'USA', 'current Address': 'AU'}}"
      ]
     },
     "execution_count": 83,
     "metadata": {},
     "output_type": "execute_result"
    }
   ],
   "source": [
    "import json\n",
    "\n",
    "with open(\"E:/D-drive/DS/data/01 DS ML DL NLP and AI With Python Lab Copy/02.LabData/pandas/simple.json\", 'r') as f:\n",
    "    data = json.load(f)\n",
    "data"
   ]
  },
  {
   "cell_type": "code",
   "execution_count": 84,
   "metadata": {},
   "outputs": [
    {
     "name": "stderr",
     "output_type": "stream",
     "text": [
      "C:\\Users\\LENOVO\\Anaconda3\\lib\\site-packages\\ipykernel_launcher.py:6: DeprecationWarning: insert is deprecated. Use insert_one or insert_many instead.\n",
      "  \n"
     ]
    },
    {
     "data": {
      "text/plain": [
       "ObjectId('5ed0f5c53312be780bdb6636')"
      ]
     },
     "execution_count": 84,
     "metadata": {},
     "output_type": "execute_result"
    }
   ],
   "source": [
    "import pymongo\n",
    "\n",
    "myclient = pymongo.MongoClient(u\"mongodb://localhost:27017/\")\n",
    "mydb = myclient[\"organization\"]\n",
    "mycoll = mydb[\"rows_coll\"]\n",
    "mycoll.insert(data)"
   ]
  },
  {
   "cell_type": "code",
   "execution_count": 87,
   "metadata": {},
   "outputs": [
    {
     "name": "stdout",
     "output_type": "stream",
     "text": [
      "{'Name': 'Test', 'Mobile': 12345678, 'Boolean': True, 'Pets': ['Dog', 'cat'], 'Address': {'Permanent address': 'USA', 'current Address': 'AU'}}\n",
      "{'Name': 'Test', 'Mobile': 12345678, 'Boolean': True, 'Pets': ['Dog', 'cat'], 'Address': {'Permanent address': 'USA', 'current Address': 'AU'}}\n",
      "{'Name': 'Test', 'Mobile': 12345678, 'Boolean': True, 'Pets': ['Dog', 'cat'], 'Address': {'Permanent address': 'USA', 'current Address': 'AU'}}\n",
      "{'Name': 'Test', 'Mobile': 12345678, 'Boolean': True, 'Pets': ['Dog', 'cat'], 'Address': {'Permanent address': 'USA', 'current Address': 'AU'}}\n"
     ]
    }
   ],
   "source": [
    "for s in mycoll.find({},{\"_id\":0}):\n",
    "    print(s)"
   ]
  },
  {
   "cell_type": "markdown",
   "metadata": {},
   "source": [
    "## 3.create one user in database"
   ]
  },
  {
   "cell_type": "code",
   "execution_count": 92,
   "metadata": {},
   "outputs": [],
   "source": [
    "#myclient.organization.add_user?"
   ]
  },
  {
   "cell_type": "code",
   "execution_count": 93,
   "metadata": {},
   "outputs": [
    {
     "name": "stderr",
     "output_type": "stream",
     "text": [
      "C:\\Users\\LENOVO\\Anaconda3\\lib\\site-packages\\ipykernel_launcher.py:2: DeprecationWarning: add_user is deprecated and will be removed in PyMongo 4.0. Use db.command with createUser or updateUser instead\n",
      "  \n",
      "C:\\Users\\LENOVO\\Anaconda3\\lib\\site-packages\\ipykernel_launcher.py:5: DeprecationWarning: add_user is deprecated and will be removed in PyMongo 4.0. Use db.command with createUser or updateUser instead\n",
      "  \"\"\"\n"
     ]
    }
   ],
   "source": [
    "myclient.organization.add_user(name=\"root\", password=\"root\",\n",
    "                               roles=[{'role':'dbAdmin','db':'organization'}])\n",
    "\n",
    "myclient.organization.add_user(name=\"root\", password=\"root\",\n",
    "                               roles=[{'role':'readWrite','db':'organization'}])"
   ]
  },
  {
   "cell_type": "markdown",
   "metadata": {},
   "source": [
    "### list the users of database"
   ]
  },
  {
   "cell_type": "code",
   "execution_count": 95,
   "metadata": {},
   "outputs": [
    {
     "name": "stdout",
     "output_type": "stream",
     "text": [
      "root readWrite\n"
     ]
    }
   ],
   "source": [
    "#/usr/bin/python\n",
    "\n",
    "#from pymongo import MongoClient\n",
    "\n",
    "#client = MongoClient(\"localhost\",27017)\n",
    "#db = client.organization\n",
    "\n",
    "# This is the line I added with the help of @salmanwahed\n",
    "listing = mydb.command('usersInfo')\n",
    "\n",
    "for document in listing['users']:\n",
    "    print(document['user'] +\" \"+ document['roles'][0]['role'])"
   ]
  },
  {
   "cell_type": "markdown",
   "metadata": {},
   "source": [
    "## 4.Read mongo collection in DataFrame format"
   ]
  },
  {
   "cell_type": "code",
   "execution_count": 106,
   "metadata": {},
   "outputs": [],
   "source": [
    "import pandas as pd\n",
    "from pymongo import MongoClient\n",
    "\n",
    "def _connect_mongo(host, port, username, password, db):\n",
    "    \"\"\" A util for making a connection to mongo \"\"\"\n",
    "\n",
    "    if username and password:\n",
    "        mongo_uri = 'mongodb://%s:%s@%s:%s/%s' % (username, password, host, port, db)\n",
    "        conn = MongoClient(mongo_uri)\n",
    "    else:\n",
    "        conn = MongoClient(host, port)\n",
    "\n",
    "    return conn[db]\n",
    "\n",
    "\n",
    "\n",
    "def read_mongo(db, collection, query={}, host='localhost', port=27017,\n",
    "               username=None, password=None, no_id=True):\n",
    "    \"\"\" Read from Mongo and Store into DataFrame \"\"\"\n",
    "\n",
    "    # Connect to MongoDB\n",
    "    db = _connect_mongo(host=host, port=port, username=username, password=password, db=db)\n",
    "\n",
    "    # Make a query to the specific DB and Collection\n",
    "    cursor = db[collection].find(query)\n",
    "\n",
    "    # Expand the cursor and construct the DataFrame\n",
    "    df =  pd.DataFrame(list(cursor))\n",
    "\n",
    "    # Delete the _id\n",
    "    if no_id:\n",
    "        del df['_id']\n",
    "\n",
    "    return df"
   ]
  },
  {
   "cell_type": "markdown",
   "metadata": {},
   "source": [
    "## Access database without username and password"
   ]
  },
  {
   "cell_type": "code",
   "execution_count": 113,
   "metadata": {},
   "outputs": [
    {
     "data": {
      "text/html": [
       "<div>\n",
       "<style scoped>\n",
       "    .dataframe tbody tr th:only-of-type {\n",
       "        vertical-align: middle;\n",
       "    }\n",
       "\n",
       "    .dataframe tbody tr th {\n",
       "        vertical-align: top;\n",
       "    }\n",
       "\n",
       "    .dataframe thead th {\n",
       "        text-align: right;\n",
       "    }\n",
       "</style>\n",
       "<table border=\"1\" class=\"dataframe\">\n",
       "  <thead>\n",
       "    <tr style=\"text-align: right;\">\n",
       "      <th></th>\n",
       "      <th>age</th>\n",
       "      <th>name</th>\n",
       "      <th>phone</th>\n",
       "      <th>qual</th>\n",
       "    </tr>\n",
       "  </thead>\n",
       "  <tbody>\n",
       "    <tr>\n",
       "      <th>0</th>\n",
       "      <td>25</td>\n",
       "      <td>pawan</td>\n",
       "      <td>8143</td>\n",
       "      <td>mech</td>\n",
       "    </tr>\n",
       "    <tr>\n",
       "      <th>1</th>\n",
       "      <td>28</td>\n",
       "      <td>kiran</td>\n",
       "      <td>9700</td>\n",
       "      <td>ecce</td>\n",
       "    </tr>\n",
       "    <tr>\n",
       "      <th>2</th>\n",
       "      <td>27</td>\n",
       "      <td>vijay</td>\n",
       "      <td>8125</td>\n",
       "      <td>csc</td>\n",
       "    </tr>\n",
       "    <tr>\n",
       "      <th>3</th>\n",
       "      <td>29</td>\n",
       "      <td>teja</td>\n",
       "      <td>9600</td>\n",
       "      <td>csc</td>\n",
       "    </tr>\n",
       "    <tr>\n",
       "      <th>4</th>\n",
       "      <td>26</td>\n",
       "      <td>sudheer</td>\n",
       "      <td>9133</td>\n",
       "      <td>mba</td>\n",
       "    </tr>\n",
       "  </tbody>\n",
       "</table>\n",
       "</div>"
      ],
      "text/plain": [
       "  age     name phone  qual\n",
       "0  25    pawan  8143  mech\n",
       "1  28    kiran  9700  ecce\n",
       "2  27    vijay  8125   csc\n",
       "3  29     teja  9600   csc\n",
       "4  26  sudheer  9133   mba"
      ]
     },
     "execution_count": 113,
     "metadata": {},
     "output_type": "execute_result"
    }
   ],
   "source": [
    "df = read_mongo(db=\"organization\", collection=\"student\")\n",
    "df.head()"
   ]
  },
  {
   "cell_type": "markdown",
   "metadata": {},
   "source": [
    "## Access database with username and password"
   ]
  },
  {
   "cell_type": "code",
   "execution_count": 114,
   "metadata": {},
   "outputs": [
    {
     "data": {
      "text/html": [
       "<div>\n",
       "<style scoped>\n",
       "    .dataframe tbody tr th:only-of-type {\n",
       "        vertical-align: middle;\n",
       "    }\n",
       "\n",
       "    .dataframe tbody tr th {\n",
       "        vertical-align: top;\n",
       "    }\n",
       "\n",
       "    .dataframe thead th {\n",
       "        text-align: right;\n",
       "    }\n",
       "</style>\n",
       "<table border=\"1\" class=\"dataframe\">\n",
       "  <thead>\n",
       "    <tr style=\"text-align: right;\">\n",
       "      <th></th>\n",
       "      <th>age</th>\n",
       "      <th>name</th>\n",
       "      <th>phone</th>\n",
       "      <th>qual</th>\n",
       "    </tr>\n",
       "  </thead>\n",
       "  <tbody>\n",
       "    <tr>\n",
       "      <th>0</th>\n",
       "      <td>25</td>\n",
       "      <td>pawan</td>\n",
       "      <td>8143</td>\n",
       "      <td>mech</td>\n",
       "    </tr>\n",
       "    <tr>\n",
       "      <th>1</th>\n",
       "      <td>28</td>\n",
       "      <td>kiran</td>\n",
       "      <td>9700</td>\n",
       "      <td>ecce</td>\n",
       "    </tr>\n",
       "    <tr>\n",
       "      <th>2</th>\n",
       "      <td>27</td>\n",
       "      <td>vijay</td>\n",
       "      <td>8125</td>\n",
       "      <td>csc</td>\n",
       "    </tr>\n",
       "    <tr>\n",
       "      <th>3</th>\n",
       "      <td>29</td>\n",
       "      <td>teja</td>\n",
       "      <td>9600</td>\n",
       "      <td>csc</td>\n",
       "    </tr>\n",
       "    <tr>\n",
       "      <th>4</th>\n",
       "      <td>26</td>\n",
       "      <td>sudheer</td>\n",
       "      <td>9133</td>\n",
       "      <td>mba</td>\n",
       "    </tr>\n",
       "  </tbody>\n",
       "</table>\n",
       "</div>"
      ],
      "text/plain": [
       "  age     name phone  qual\n",
       "0  25    pawan  8143  mech\n",
       "1  28    kiran  9700  ecce\n",
       "2  27    vijay  8125   csc\n",
       "3  29     teja  9600   csc\n",
       "4  26  sudheer  9133   mba"
      ]
     },
     "execution_count": 114,
     "metadata": {},
     "output_type": "execute_result"
    }
   ],
   "source": [
    "df = read_mongo(db=\"organization\",collection='student',\n",
    "                username=\"root\", password=\"root\")\n",
    "df.head()"
   ]
  },
  {
   "cell_type": "code",
   "execution_count": null,
   "metadata": {},
   "outputs": [],
   "source": []
  },
  {
   "cell_type": "code",
   "execution_count": 16,
   "metadata": {},
   "outputs": [
    {
     "name": "stdout",
     "output_type": "stream",
     "text": [
      "['admin', 'config', 'crawlerDB', 'local', 'mydemo', 'organization', 'pavandb']\n",
      "['student', 'rows_coll']\n",
      "<pymongo.cursor.Cursor object at 0x00000228C4597860>\n"
     ]
    }
   ],
   "source": [
    "import pymongo\n",
    "import pandas as pd\n",
    "\n",
    "con = pymongo.MongoClient(\"mongodb://localhost:27017/\")\n",
    "print(con.list_database_names())\n",
    "db = con['organization']\n",
    "print(db.list_collection_names())\n",
    "coll = db['student']\n",
    "cursor = coll.find()\n",
    "print(cursor)"
   ]
  },
  {
   "cell_type": "code",
   "execution_count": 15,
   "metadata": {},
   "outputs": [
    {
     "data": {
      "text/html": [
       "<div>\n",
       "<style scoped>\n",
       "    .dataframe tbody tr th:only-of-type {\n",
       "        vertical-align: middle;\n",
       "    }\n",
       "\n",
       "    .dataframe tbody tr th {\n",
       "        vertical-align: top;\n",
       "    }\n",
       "\n",
       "    .dataframe thead th {\n",
       "        text-align: right;\n",
       "    }\n",
       "</style>\n",
       "<table border=\"1\" class=\"dataframe\">\n",
       "  <thead>\n",
       "    <tr style=\"text-align: right;\">\n",
       "      <th></th>\n",
       "      <th>_id</th>\n",
       "      <th>name</th>\n",
       "      <th>age</th>\n",
       "      <th>qual</th>\n",
       "      <th>phone</th>\n",
       "    </tr>\n",
       "  </thead>\n",
       "  <tbody>\n",
       "    <tr>\n",
       "      <th>0</th>\n",
       "      <td>5ed0e52f3312be780bdb6623</td>\n",
       "      <td>pawan</td>\n",
       "      <td>25</td>\n",
       "      <td>mech</td>\n",
       "      <td>8143</td>\n",
       "    </tr>\n",
       "    <tr>\n",
       "      <th>1</th>\n",
       "      <td>5ed0e5333312be780bdb6624</td>\n",
       "      <td>kiran</td>\n",
       "      <td>28</td>\n",
       "      <td>ecce</td>\n",
       "      <td>9700</td>\n",
       "    </tr>\n",
       "    <tr>\n",
       "      <th>2</th>\n",
       "      <td>5ed0e5333312be780bdb6625</td>\n",
       "      <td>vijay</td>\n",
       "      <td>27</td>\n",
       "      <td>csc</td>\n",
       "      <td>8125</td>\n",
       "    </tr>\n",
       "    <tr>\n",
       "      <th>3</th>\n",
       "      <td>5ed0e5333312be780bdb6626</td>\n",
       "      <td>teja</td>\n",
       "      <td>29</td>\n",
       "      <td>csc</td>\n",
       "      <td>9600</td>\n",
       "    </tr>\n",
       "    <tr>\n",
       "      <th>4</th>\n",
       "      <td>5ed0e5333312be780bdb6627</td>\n",
       "      <td>sudheer</td>\n",
       "      <td>26</td>\n",
       "      <td>mba</td>\n",
       "      <td>9133</td>\n",
       "    </tr>\n",
       "    <tr>\n",
       "      <th>5</th>\n",
       "      <td>5ed0e5333312be780bdb6628</td>\n",
       "      <td>swamy</td>\n",
       "      <td>26</td>\n",
       "      <td>csc</td>\n",
       "      <td>9123</td>\n",
       "    </tr>\n",
       "    <tr>\n",
       "      <th>6</th>\n",
       "      <td>5ed0e5333312be780bdb6629</td>\n",
       "      <td>chandu</td>\n",
       "      <td>26</td>\n",
       "      <td>mech</td>\n",
       "      <td>8150</td>\n",
       "    </tr>\n",
       "    <tr>\n",
       "      <th>7</th>\n",
       "      <td>5ed105333312be780bdb6637</td>\n",
       "      <td>kiran</td>\n",
       "      <td>28</td>\n",
       "      <td>ecce</td>\n",
       "      <td>9700</td>\n",
       "    </tr>\n",
       "    <tr>\n",
       "      <th>8</th>\n",
       "      <td>5ed105333312be780bdb6638</td>\n",
       "      <td>vijay</td>\n",
       "      <td>27</td>\n",
       "      <td>csc</td>\n",
       "      <td>8125</td>\n",
       "    </tr>\n",
       "    <tr>\n",
       "      <th>9</th>\n",
       "      <td>5ed105333312be780bdb6639</td>\n",
       "      <td>teja</td>\n",
       "      <td>29</td>\n",
       "      <td>csc</td>\n",
       "      <td>9600</td>\n",
       "    </tr>\n",
       "    <tr>\n",
       "      <th>10</th>\n",
       "      <td>5ed105333312be780bdb663a</td>\n",
       "      <td>sudheer</td>\n",
       "      <td>26</td>\n",
       "      <td>mba</td>\n",
       "      <td>9133</td>\n",
       "    </tr>\n",
       "    <tr>\n",
       "      <th>11</th>\n",
       "      <td>5ed105333312be780bdb663b</td>\n",
       "      <td>swamy</td>\n",
       "      <td>26</td>\n",
       "      <td>csc</td>\n",
       "      <td>9123</td>\n",
       "    </tr>\n",
       "    <tr>\n",
       "      <th>12</th>\n",
       "      <td>5ed105333312be780bdb663c</td>\n",
       "      <td>chandu</td>\n",
       "      <td>26</td>\n",
       "      <td>mech</td>\n",
       "      <td>8150</td>\n",
       "    </tr>\n",
       "    <tr>\n",
       "      <th>13</th>\n",
       "      <td>608abf1e723a32d98f3b4324</td>\n",
       "      <td>asdf</td>\n",
       "      <td>52</td>\n",
       "      <td>sds</td>\n",
       "      <td>456</td>\n",
       "    </tr>\n",
       "    <tr>\n",
       "      <th>14</th>\n",
       "      <td>608abfab723a32d98f3b4325</td>\n",
       "      <td>asdf</td>\n",
       "      <td>52</td>\n",
       "      <td>sds</td>\n",
       "      <td>456</td>\n",
       "    </tr>\n",
       "    <tr>\n",
       "      <th>15</th>\n",
       "      <td>608abfab723a32d98f3b4326</td>\n",
       "      <td>aadafsdf</td>\n",
       "      <td>42</td>\n",
       "      <td>asdf</td>\n",
       "      <td>NaN</td>\n",
       "    </tr>\n",
       "  </tbody>\n",
       "</table>\n",
       "</div>"
      ],
      "text/plain": [
       "                         _id      name age  qual phone\n",
       "0   5ed0e52f3312be780bdb6623     pawan  25  mech  8143\n",
       "1   5ed0e5333312be780bdb6624     kiran  28  ecce  9700\n",
       "2   5ed0e5333312be780bdb6625     vijay  27   csc  8125\n",
       "3   5ed0e5333312be780bdb6626      teja  29   csc  9600\n",
       "4   5ed0e5333312be780bdb6627   sudheer  26   mba  9133\n",
       "5   5ed0e5333312be780bdb6628     swamy  26   csc  9123\n",
       "6   5ed0e5333312be780bdb6629    chandu  26  mech  8150\n",
       "7   5ed105333312be780bdb6637     kiran  28  ecce  9700\n",
       "8   5ed105333312be780bdb6638     vijay  27   csc  8125\n",
       "9   5ed105333312be780bdb6639      teja  29   csc  9600\n",
       "10  5ed105333312be780bdb663a   sudheer  26   mba  9133\n",
       "11  5ed105333312be780bdb663b     swamy  26   csc  9123\n",
       "12  5ed105333312be780bdb663c    chandu  26  mech  8150\n",
       "13  608abf1e723a32d98f3b4324      asdf  52   sds   456\n",
       "14  608abfab723a32d98f3b4325      asdf  52   sds   456\n",
       "15  608abfab723a32d98f3b4326  aadafsdf  42  asdf   NaN"
      ]
     },
     "execution_count": 15,
     "metadata": {},
     "output_type": "execute_result"
    }
   ],
   "source": [
    "pd.DataFrame(list(cursor))"
   ]
  },
  {
   "cell_type": "code",
   "execution_count": null,
   "metadata": {},
   "outputs": [],
   "source": []
  }
 ],
 "metadata": {
  "kernelspec": {
   "display_name": "Python 3",
   "language": "python",
   "name": "python3"
  },
  "language_info": {
   "codemirror_mode": {
    "name": "ipython",
    "version": 3
   },
   "file_extension": ".py",
   "mimetype": "text/x-python",
   "name": "python",
   "nbconvert_exporter": "python",
   "pygments_lexer": "ipython3",
   "version": "3.6.5"
  }
 },
 "nbformat": 4,
 "nbformat_minor": 2
}
