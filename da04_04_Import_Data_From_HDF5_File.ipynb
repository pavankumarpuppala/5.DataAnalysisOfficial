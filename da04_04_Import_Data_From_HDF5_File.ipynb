{
 "cells": [
  {
   "cell_type": "markdown",
   "metadata": {},
   "source": [
    "## import HDF5 files"
   ]
  },
  {
   "cell_type": "markdown",
   "metadata": {},
   "source": [
    "1.Hierarchical Data Format version 5\n",
    "2.Standard for storing large quantities of numerical data\n",
    "3.Datasets can be hundreds of gigabytes or terabytes\n",
    "4.HDF5 can scale to exabytes\n",
    "5.For more refer: <a>https://support.hdfgroup.org/HDF5/examples/intro.html#python</a>\n",
    "6.It is open source and visit Official website here\n",
    "<a>https://www.hdfgroup.org/</a>"
   ]
  },
  {
   "cell_type": "code",
   "execution_count": 4,
   "metadata": {},
   "outputs": [],
   "source": [
    "import os\n",
    "\n",
    "os.chdir(\"E:\\\\D-drive\\\\DS\\\\data\\\\01 DS ML DL NLP and AI With Python Lab Copy\\\\02.LabData\")"
   ]
  },
  {
   "cell_type": "markdown",
   "metadata": {},
   "source": [
    "### 2. Work with HDF5 file"
   ]
  },
  {
   "cell_type": "markdown",
   "metadata": {},
   "source": [
    "#### 2.1 Import Required Packages"
   ]
  },
  {
   "cell_type": "code",
   "execution_count": 5,
   "metadata": {},
   "outputs": [],
   "source": [
    "import numpy as np;\n",
    "import h5py;\n",
    "import matplotlib.pyplot as plt"
   ]
  },
  {
   "cell_type": "markdown",
   "metadata": {},
   "source": [
    "#### 2.2 Load File"
   ]
  },
  {
   "cell_type": "code",
   "execution_count": 6,
   "metadata": {},
   "outputs": [
    {
     "name": "stdout",
     "output_type": "stream",
     "text": [
      "<class 'h5py._hl.files.File'>\n"
     ]
    }
   ],
   "source": [
    "data = h5py.File('LIGO_data.hdf5', 'r') # Load file: data\n",
    "print(type(data))  #<class 'h5py._hl.files.File'>  # Print the datatype of the loaded file"
   ]
  },
  {
   "cell_type": "markdown",
   "metadata": {},
   "source": [
    "#### 2.3 Print the keys of the file"
   ]
  },
  {
   "cell_type": "code",
   "execution_count": 7,
   "metadata": {},
   "outputs": [
    {
     "name": "stdout",
     "output_type": "stream",
     "text": [
      "meta\n",
      "quality\n",
      "strain\n"
     ]
    }
   ],
   "source": [
    "for key in data.keys():\n",
    "    print(key)    # meta , quality and strain"
   ]
  },
  {
   "cell_type": "markdown",
   "metadata": {},
   "source": [
    "#### 2.4 Get the HDF5 group: group"
   ]
  },
  {
   "cell_type": "code",
   "execution_count": 8,
   "metadata": {},
   "outputs": [
    {
     "data": {
      "text/plain": [
       "<HDF5 group \"/strain\" (1 members)>"
      ]
     },
     "execution_count": 8,
     "metadata": {},
     "output_type": "execute_result"
    }
   ],
   "source": [
    "group = data['strain']\n",
    "group"
   ]
  },
  {
   "cell_type": "code",
   "execution_count": 9,
   "metadata": {},
   "outputs": [
    {
     "name": "stdout",
     "output_type": "stream",
     "text": [
      "Strain\n"
     ]
    }
   ],
   "source": [
    "# Check out keys of group\n",
    "for key in group.keys():\n",
    "    print(key)"
   ]
  },
  {
   "cell_type": "code",
   "execution_count": 10,
   "metadata": {},
   "outputs": [],
   "source": [
    "strain = data['strain']['Strain'].value # Set variable equal to time series data: strain\n",
    "num_samples = 10000 # Set number of time points to sample: num_Samples\n",
    "time = np.arange(0, 1, 1/num_samples) # Set time vector"
   ]
  },
  {
   "cell_type": "markdown",
   "metadata": {},
   "source": [
    "#### 2.5. Plot data"
   ]
  },
  {
   "cell_type": "code",
   "execution_count": 11,
   "metadata": {},
   "outputs": [
    {
     "data": {
      "image/png": "[encoded data removed]",
      "text/plain": [
       "<Figure size 432x288 with 1 Axes>"
      ]
     },
     "metadata": {},
     "output_type": "display_data"
    }
   ],
   "source": [
    "plt.plot(time, strain[:num_samples])\n",
    "plt.xlabel('GPS Time (s)') ; plt.ylabel('strain') ; plt.show()"
   ]
  },
  {
   "cell_type": "code",
   "execution_count": null,
   "metadata": {},
   "outputs": [],
   "source": []
  },
  {
   "cell_type": "code",
   "execution_count": 1,
   "metadata": {},
   "outputs": [],
   "source": [
    "import os\n",
    "\n",
    "os.chdir(\"E:\\\\D-drive\\\\DS\\\\data\\\\01 DS ML DL NLP and AI With Python Lab Copy\\\\02.LabData\")"
   ]
  },
  {
   "cell_type": "code",
   "execution_count": 3,
   "metadata": {},
   "outputs": [],
   "source": [
    "import numpy as np\n",
    "import h5py\n",
    "# pip install h5py"
   ]
  },
  {
   "cell_type": "markdown",
   "metadata": {},
   "source": [
    "### create hdf5 file"
   ]
  },
  {
   "cell_type": "code",
   "execution_count": 37,
   "metadata": {},
   "outputs": [
    {
     "name": "stderr",
     "output_type": "stream",
     "text": [
      "C:\\Users\\LENOVO\\Anaconda3\\lib\\site-packages\\ipykernel_launcher.py:4: DeprecationWarning: This function is deprecated. Please call randint(1, 10 + 1) instead\n",
      "  after removing the cwd from sys.path.\n"
     ]
    },
    {
     "data": {
      "text/plain": [
       "array([10,  7,  1,  5,  7])"
      ]
     },
     "execution_count": 37,
     "metadata": {},
     "output_type": "execute_result"
    }
   ],
   "source": [
    "import numpy as np\n",
    "import h5py\n",
    "\n",
    "arr = np.random.random_integers(1,10,5)\n",
    "arr"
   ]
  },
  {
   "cell_type": "code",
   "execution_count": 7,
   "metadata": {},
   "outputs": [],
   "source": [
    "with h5py.File(\"random.hdf5\",\"w\") as f:\n",
    "    f.create_dataset(\"default\",data=arr)"
   ]
  },
  {
   "cell_type": "markdown",
   "metadata": {},
   "source": [
    "### read hdf5 file"
   ]
  },
  {
   "cell_type": "code",
   "execution_count": 12,
   "metadata": {},
   "outputs": [
    {
     "name": "stdout",
     "output_type": "stream",
     "text": [
      "The given data is:[ 5  5 10  4  2]\n",
      "The minimum value is:2\n",
      "The maximum value is:10\n"
     ]
    }
   ],
   "source": [
    "with h5py.File(\"random.hdf5\",\"r\") as f:\n",
    "    data = f[\"default\"]\n",
    "    print(f\"The given data is:{data[:]}\")\n",
    "    print(f\"The minimum value is:{min(data)}\")\n",
    "    print(f\"The maximum value is:{max(data)}\")"
   ]
  },
  {
   "cell_type": "markdown",
   "metadata": {},
   "source": [
    "## 1.Create a dataset"
   ]
  },
  {
   "cell_type": "code",
   "execution_count": 19,
   "metadata": {},
   "outputs": [
    {
     "name": "stdout",
     "output_type": "stream",
     "text": [
      "<class 'h5py._hl.dataset.Dataset'>\n",
      "Dataset dataspace is (4, 6)\n",
      "Dataset Numpy datatype is >i4\n",
      "Dataset name is /dset\n",
      "Dataset is a member of the group <HDF5 group \"/\" (1 members)>\n",
      "Dataset was created in the file <HDF5 file \"dset.h5\" (mode r+)>\n"
     ]
    }
   ],
   "source": [
    "# This examaple creates an HDF5 file dset.h5 and an empty datasets /dset in it.\n",
    "import h5py\n",
    "\n",
    "# Create a new file using defaut properties.\n",
    "file = h5py.File('dset.h5','w')\n",
    "\n",
    "# Create a dataset under the Root group.\n",
    "dataset = file.create_dataset(\"dset\",(4, 6), h5py.h5t.STD_I32BE)\n",
    "print(type(dataset))\n",
    "print(\"Dataset dataspace is\", dataset.shape)\n",
    "print(\"Dataset Numpy datatype is\", dataset.dtype)\n",
    "print(\"Dataset name is\", dataset.name)\n",
    "print(\"Dataset is a member of the group\", dataset.parent)\n",
    "print(\"Dataset was created in the file\", dataset.file)\n",
    "\n",
    "# Close the file before exiting\n",
    "file.close()"
   ]
  },
  {
   "cell_type": "markdown",
   "metadata": {},
   "source": [
    "## 2.Read and write to a dataset"
   ]
  },
  {
   "cell_type": "code",
   "execution_count": 38,
   "metadata": {},
   "outputs": [
    {
     "name": "stdout",
     "output_type": "stream",
     "text": [
      "Writing data...\n",
      "Reading data back...\n",
      "Printing data...\n",
      "data_read\n"
     ]
    }
   ],
   "source": [
    "# This example writes data to the existing empty dataset created by h5_crtdat.py and then reads it back.\n",
    "import h5py\n",
    "import numpy as np\n",
    "\n",
    "# Open an existing file using default properties.\n",
    "file = h5py.File('dset.h5','r+')\n",
    "\n",
    "# Open \"dset\" dataset under the root group.\n",
    "dataset = file['/dset']\n",
    "\n",
    "# Initialize data object with 0.\n",
    "data = np.zeros((4,6))\n",
    "\n",
    "# Assign new values\n",
    "for i in range(4):\n",
    "    for j in range(6):\n",
    "        data[i][j]= i*6+j+1 \n",
    "\n",
    "# Write data\n",
    "print(\"Writing data...\") \n",
    "dataset[...] = data\n",
    "\n",
    "# Read data back and print it.\n",
    "print(\"Reading data back...\")\n",
    "data_read = dataset[...]\n",
    "print(\"Printing data...\")\n",
    "print(\"data_read\")\n",
    "\n",
    "# Close the file before exiting\n",
    "file.close()"
   ]
  },
  {
   "cell_type": "markdown",
   "metadata": {},
   "source": [
    "### 3.Create an attribute"
   ]
  },
  {
   "cell_type": "code",
   "execution_count": 41,
   "metadata": {},
   "outputs": [],
   "source": [
    "# This examaple creates and writes two attributes \n",
    "# on the \"dset\" dataset created by h5_crtdat.py.\n",
    "import h5py\n",
    "import numpy as np\n",
    "\n",
    "# Open an existing file using defaut properties.\n",
    "file = h5py.File('dset.h5','r+')\n",
    "\n",
    "# Open \"dset\" dataset.\n",
    "dataset = file['/dset']\n",
    "\n",
    "# Create string attribute.\n",
    "attr_string = \"Meter per second\"\n",
    "dataset.attrs[\"Units\"] = attr_string\n",
    "\n",
    "# Create integer array attribute.\n",
    "attr_data = np.zeros((2))\n",
    "attr_data[0] = 100\n",
    "attr_data[1] = 200\n",
    "dataset.attrs.create(\"Speed\", attr_data, (2,), h5py.h5t.STD_I32BE)\n",
    "\n",
    "# Close the file before exiting\n",
    "file.close()"
   ]
  },
  {
   "cell_type": "markdown",
   "metadata": {},
   "source": [
    "### 4.create a group"
   ]
  },
  {
   "cell_type": "code",
   "execution_count": 43,
   "metadata": {},
   "outputs": [
    {
     "name": "stdout",
     "output_type": "stream",
     "text": [
      "Creating an HDF5 file with the name group.h5...\n",
      "When an HDF5 file is created, it has a Root group with the name ' / '.\n",
      "Creating a group MyGroup in the file...\n",
      "An HDF5 group is a container for other objects;\n",
      "\n",
      "      a group is similar to Python dictionary with the keys being the links to the group members.\n",
      "Show the members of the Root group using dictionary key method: KeysView(<HDF5 file \"group.h5\" (mode r+)>)\n",
      "Show the members of the Root group using the list function: ['MyGroup']\n"
     ]
    }
   ],
   "source": [
    "# This example creates an HDF5 file group.h5 and a group MyGroup in it \n",
    "# using H5Py interfaces to the HDF5 library. \n",
    "import sys\n",
    "import h5py\n",
    "\n",
    "# Uncomment the next line if you want to save the output from this script to a file named \"out\".\n",
    "#sys.stdout = open('out', 'w')\n",
    "\n",
    "# Use 'w' to remove existing file and create a new one; use 'w-' if\n",
    "# create operation should fail when the file already exists.\n",
    "print(\"Creating an HDF5 file with the name group.h5...\") \n",
    "file = h5py.File('group.h5','w')\n",
    "\n",
    "# Show the Root group which is created when the file is created.\n",
    "print(\"When an HDF5 file is created, it has a Root group with the name '\",file.name,\"'.\")\n",
    "\n",
    "# Create a group with the name \"MyGroup\"\n",
    "print(\"Creating a group MyGroup in the file...\")\n",
    "group = file.create_group(\"MyGroup\")\n",
    "\n",
    "# Print the content of the Root group\n",
    "print(\"\"\"An HDF5 group is a container for other objects;\\n\n",
    "      a group is similar to Python dictionary with the keys being the links to the group members.\"\"\")\n",
    "print(\"Show the members of the Root group using dictionary key method:\", file.keys()) \n",
    "\n",
    "# Another way to show the content of the Root group.\n",
    "print(\"Show the members of the Root group using the list function:\", list(file))\n",
    "\n",
    "# Close the file before exiting; H5Py will close the group.\n",
    "file.close()"
   ]
  },
  {
   "cell_type": "markdown",
   "metadata": {},
   "source": [
    "### 5.Create groups in a file using absolute and relative paths  \t"
   ]
  },
  {
   "cell_type": "code",
   "execution_count": 44,
   "metadata": {},
   "outputs": [
    {
     "name": "stdout",
     "output_type": "stream",
     "text": [
      "Creating HDF5 file group.h5...\n",
      "Creating group MyGroup in the file...\n",
      "Creating group Group_A in MyGroup using absolute path...\n",
      "Creating group Group_B in MyGroup using relative path...\n",
      "Printing members of MyGroup group: KeysView(<HDF5 group \"/MyGroup\" (2 members)>)\n"
     ]
    }
   ],
   "source": [
    "# This example creates HDF5 file group.h5 and group MyGroup in it\n",
    "# Absolute and relative paths are used to create groups in MyGroup. \n",
    "import sys\n",
    "import h5py\n",
    "\n",
    "# Use 'w' to remove existing file and create a new one; use 'w-' if\n",
    "# create operation should fail when the file already exists.\n",
    "print(\"Creating HDF5 file group.h5...\")\n",
    "file = h5py.File('group.h5','w')\n",
    "\n",
    "# Create a group with the name \"MyGroup\"\n",
    "print(\"Creating group MyGroup in the file...\")\n",
    "group = file.create_group(\"MyGroup\")\n",
    "\n",
    "# Create group \"Group_A\" in group MyGroup\n",
    "print(\"Creating group Group_A in MyGroup using absolute path...\")\n",
    "group_a = file.create_group(\"/MyGroup/Group_A\")\n",
    "\n",
    "# Create group \"Group_B\" in group MyGroup\n",
    "print(\"Creating group Group_B in MyGroup using relative path...\")\n",
    "group_b = group.create_group(\"Group_B\")\n",
    "\n",
    "# Print the contents of MyGroup group\n",
    "print(\"Printing members of MyGroup group:\", group.keys())\n",
    "\n",
    "# Close the file before exiting; H5Py will close the groups we created.\n",
    "file.close()"
   ]
  },
  {
   "cell_type": "markdown",
   "metadata": {},
   "source": [
    "### 6.Create a dataset group"
   ]
  },
  {
   "cell_type": "code",
   "execution_count": 33,
   "metadata": {},
   "outputs": [
    {
     "name": "stdout",
     "output_type": "stream",
     "text": [
      "Creating dataset dset1 in MyGroup group...\n",
      "Writing data to dset1...\n",
      "Creating dataset dset2 in /MyGroup/Group_A group...\n",
      "Writing data to dset2...\n"
     ]
    }
   ],
   "source": [
    "# This example writes data to the existing empty dataset created by h5_crtdat.py and then reads it back.\n",
    "import h5py\n",
    "import numpy as np\n",
    "\n",
    "# Open an existing file using defaut properties.\n",
    "file = h5py.File('group.h5','r+')\n",
    "\n",
    "# Open \"MyGroup\" group and create dataset dset1 in it.\n",
    "print(\"Creating dataset dset1 in MyGroup group...\")\n",
    "dataset1 = file.create_dataset(\"/MyGroup/dset1\", (3,3), dtype = h5py.h5t.STD_I32BE) \n",
    "\n",
    "# Initialize data and write it to dset1.\n",
    "data = np.zeros((3,3))\n",
    "for i in range(3):\n",
    "    for j in range(3):\n",
    "        data[i][j] = j + 1\t \n",
    "print(\"Writing data to dset1...\")\n",
    "dataset1[...] = data\n",
    "\n",
    "\n",
    "# Open \"MyGroup/Group_A\" group and create dataset dset2 in it.\n",
    "print(\"Creating dataset dset2 in /MyGroup/Group_A group...\")\n",
    "group = file['/MyGroup/Group_A']\n",
    "dataset2 = group.create_dataset(\"dset2\", (2,10), dtype = h5py.h5t.STD_I16LE)\n",
    "\n",
    "# Initialize data and write it to dset2.\n",
    "data = np.zeros((2,10))\n",
    "for i in range(2):\n",
    "    for j in range(10):\n",
    "        data[i][j] = j + 1\t \n",
    "print(\"Writing data to dset2...\")\n",
    "dataset2[...] = data\n",
    "\n",
    "# Close the file before exiting.\n",
    "file.close()"
   ]
  },
  {
   "cell_type": "markdown",
   "metadata": {},
   "source": [
    "### 7.Create a chunked and compressed dataset"
   ]
  },
  {
   "cell_type": "code",
   "execution_count": 45,
   "metadata": {},
   "outputs": [
    {
     "data": {
      "text/plain": [
       "'\\nThis example illustrates how to create a compressed dataset.\\n\\nTested with:\\n    Fedora 18:\\n        HDF5 1.8.9, Python 2.7.3, Numpy 1.7.1, h5py 2.1.3\\n    Fedora 18:\\n        HDF5 1.8.9, Python 3.3.0, Numpy 1.7.1, h5py 2.1.3\\n    Mac OS X 10.6.8:\\n        HDF5 1.8.10, Python 3.2.5, Numpy 1.7.1, h5py 2.1.3\\n'"
      ]
     },
     "execution_count": 45,
     "metadata": {},
     "output_type": "execute_result"
    }
   ],
   "source": [
    "\"\"\"\n",
    "This example illustrates how to create a compressed dataset.\n",
    "\n",
    "Tested with:\n",
    "    Fedora 18:\n",
    "        HDF5 1.8.9, Python 2.7.3, Numpy 1.7.1, h5py 2.1.3\n",
    "    Fedora 18:\n",
    "        HDF5 1.8.9, Python 3.3.0, Numpy 1.7.1, h5py 2.1.3\n",
    "    Mac OS X 10.6.8:\n",
    "        HDF5 1.8.10, Python 3.2.5, Numpy 1.7.1, h5py 2.1.3\n",
    "\"\"\""
   ]
  },
  {
   "cell_type": "code",
   "execution_count": 36,
   "metadata": {},
   "outputs": [
    {
     "name": "stdout",
     "output_type": "stream",
     "text": [
      "Number of filters associated with dataset:  1\n",
      "b'deflate'\n",
      "[[  0.   1.   2. ...  17.  18.  19.]\n",
      " [  1.   2.   3. ...  18.  19.  20.]\n",
      " [  2.   3.   4. ...  19.  20.  21.]\n",
      " ...\n",
      " [ 97.  98.  99. ... 114. 115. 116.]\n",
      " [ 98.  99. 100. ... 115. 116. 117.]\n",
      " [ 99. 100. 101. ... 116. 117. 118.]]\n"
     ]
    }
   ],
   "source": [
    "import sys\n",
    "\n",
    "import numpy as np\n",
    "import h5py\n",
    "\n",
    "FILE = \"cmprss.h5\"\n",
    "DATASET = \"Compressed_Data\"\n",
    "\n",
    "# Strings are handled very differently between python2 and python3.\n",
    "if sys.hexversion >= 0x03000000:\n",
    "    FILE = FILE.encode()\n",
    "    DATASET = DATASET.encode()\n",
    "\n",
    "DIM0 = 100\n",
    "DIM1 = 20\n",
    "\n",
    "def run():\n",
    "    # Create a file.\n",
    "    fid = h5py.h5f.create(FILE)\n",
    "\n",
    "    # Create dataset \"Compressed Data\" in the group using absolute names.\n",
    "    dims = (DIM0, DIM1)\n",
    "    space_id = h5py.h5s.create_simple(dims)\n",
    "\n",
    "    dcpl = h5py.h5p.create(h5py.h5p.DATASET_CREATE)\n",
    "\n",
    "    # Datasets must be chunked for compression.\n",
    "    cdims = (20, 20)\n",
    "    dcpl.set_chunk(cdims)\n",
    "\n",
    "    # Set ZLIB / DEFLATE compression using compression level 6.\n",
    "    dcpl.set_deflate(6)\n",
    "\n",
    "    dset = h5py.h5d.create(fid, DATASET,\n",
    "                           h5py.h5t.STD_I32BE, \n",
    "                           space_id, dcpl, h5py.h5p.DEFAULT)\n",
    "\n",
    "    buf = np.zeros((DIM0, DIM1))\n",
    "    for i in range(DIM0):\n",
    "        buf[i] = i + np.arange(DIM1)\n",
    "\n",
    "    dset.write(h5py.h5s.ALL, h5py.h5s.ALL, buf)\n",
    "\n",
    "    # Now reopen the file and dataset.\n",
    "    fid = h5py.h5f.open(FILE)\n",
    "    dset = h5py.h5d.open(fid, DATASET)\n",
    "\n",
    "    dcpl = dset.get_create_plist()\n",
    "\n",
    "    numfilt = dcpl.get_nfilters()\n",
    "    print(\"Number of filters associated with dataset:  %d\" % numfilt)\n",
    "\n",
    "    for j in range(numfilt):\n",
    "        code, flags, values, name = dcpl.get_filter(j)\n",
    "        print(name)\n",
    "\n",
    "    newdata = np.zeros((DIM0, DIM1))\n",
    "    dset.read(h5py.h5s.ALL,h5py.h5s.ALL, newdata)\n",
    "    print(newdata)\n",
    "\n",
    "if __name__ == \"__main__\":\n",
    "    run()\n"
   ]
  },
  {
   "cell_type": "code",
   "execution_count": null,
   "metadata": {},
   "outputs": [],
   "source": []
  }
 ],
 "metadata": {
  "kernelspec": {
   "display_name": "Python 3",
   "language": "python",
   "name": "python3"
  },
  "language_info": {
   "codemirror_mode": {
    "name": "ipython",
    "version": 3
   },
   "file_extension": ".py",
   "mimetype": "text/x-python",
   "name": "python",
   "nbconvert_exporter": "python",
   "pygments_lexer": "ipython3",
   "version": "3.6.5"
  }
 },
 "nbformat": 4,
 "nbformat_minor": 2
}
