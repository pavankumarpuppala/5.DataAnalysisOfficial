{
 "cells": [
  {
   "cell_type": "markdown",
   "metadata": {},
   "source": [
    "# Data Analyst role\n",
    "- Level 3 we will learn the skill set required for <b>Data Analyst Role</b>\n",
    "-  We will learn mainly three things (Read /Transform/present)\n",
    "   - Read from any where (Big data,rdbms,nosql databases,files,api calls, graph databases(tigergraph,neo4J) ..etc\n",
    "   - Data transformations/manipulations/data wrangling\n",
    "   - Present data in graphical format\n",
    "- Resources who are working on BI tools like Power BI,OBI,Tableau,Cognos,SAPBO ... etc are also called as data analysts"
   ]
  },
  {
   "cell_type": "markdown",
   "metadata": {},
   "source": [
    "#### Packages(Numpy,pandas,matplotlib)\n",
    "- Step1: read data from any format(DB,files(txt,csv,xml))\n",
    "- Step2: data transformation/manipulation,pre-processing\n",
    "- Step3: present data in graphical format(Matplotlib)"
   ]
  },
  {
   "cell_type": "markdown",
   "metadata": {},
   "source": [
    "# Numpy\n",
    "- https://numpy.org/\n",
    "- Numerical Python, or \"Numpy\" for short, is a foundational package on which many of the most common data science packages are built.\n",
    "- Numpy provides us with <b>high performance multi-dimensional arrays</b> which we can use as vectors or matrices.\n",
    "- https://numpy.org/devdocs/user/quickstart.html"
   ]
  },
  {
   "cell_type": "markdown",
   "metadata": {},
   "source": [
    "- item by item operation\n",
    "- numpy is foundational package for machine learning\n",
    "- compare to list performance is very high\n",
    "- it is mutable\n",
    "- numpy is an homogeneous"
   ]
  },
  {
   "cell_type": "markdown",
   "metadata": {},
   "source": [
    "### Additional Recommended Resources:\n",
    "[https://docs.scipy.org/doc/numpy/reference/](https://docs.scipy.org/doc/numpy/reference/)"
   ]
  },
  {
   "cell_type": "markdown",
   "metadata": {},
   "source": [
    "### Installation of python Packages:\n",
    "https://www.youtube.com/watch?v=Z_Kxg-EYvxM&ab_channel=APMonitor.com"
   ]
  },
  {
   "cell_type": "markdown",
   "metadata": {},
   "source": [
    "## 1. Why we need to learn Numpy array ? though we have python list ?\n",
    "- Let us observe below BMI calculation\n",
    "$BMI = \\frac {weight\\ in\\ kgs}{height\\ in\\ meters^2} $\n",
    "\n",
    "- It's one way to see if you're at a healthy weight.\n",
    "- Underweight: Your BMI is less than 18.5.\n",
    "- Healthy weight: Your BMI is 18.5 to 24.9.\n",
    "- Overweight: Your BMI is 25 to 29.9.\n",
    "- Obese: Your BMI is 30 or higher"
   ]
  },
  {
   "cell_type": "markdown",
   "metadata": {},
   "source": [
    "### Q.) Is it possible to calculate BMI of 4 members by using python list?     Ans: No"
   ]
  },
  {
   "cell_type": "code",
   "execution_count": 109,
   "metadata": {},
   "outputs": [
    {
     "ename": "TypeError",
     "evalue": "unsupported operand type(s) for ** or pow(): 'list' and 'int'",
     "output_type": "error",
     "traceback": [
      "\u001b[1;31m---------------------------------------------------------------------------\u001b[0m",
      "\u001b[1;31mTypeError\u001b[0m                                 Traceback (most recent call last)",
      "\u001b[1;32m<ipython-input-109-93cd88180822>\u001b[0m in \u001b[0;36m<module>\u001b[1;34m()\u001b[0m\n\u001b[0;32m      2\u001b[0m \u001b[0mheights\u001b[0m\u001b[1;33m=\u001b[0m\u001b[1;33m[\u001b[0m\u001b[1;36m1.6\u001b[0m\u001b[1;33m,\u001b[0m\u001b[1;36m1.7\u001b[0m\u001b[1;33m,\u001b[0m\u001b[1;36m1.8\u001b[0m\u001b[1;33m,\u001b[0m\u001b[1;36m1.9\u001b[0m\u001b[1;33m]\u001b[0m\u001b[1;33m\u001b[0m\u001b[0m\n\u001b[0;32m      3\u001b[0m \u001b[1;33m\u001b[0m\u001b[0m\n\u001b[1;32m----> 4\u001b[1;33m \u001b[0mbmi\u001b[0m\u001b[1;33m=\u001b[0m\u001b[0mweights\u001b[0m\u001b[1;33m/\u001b[0m\u001b[1;33m(\u001b[0m\u001b[0mheights\u001b[0m\u001b[1;33m**\u001b[0m\u001b[1;36m2\u001b[0m\u001b[1;33m)\u001b[0m\u001b[1;33m\u001b[0m\u001b[0m\n\u001b[0m",
      "\u001b[1;31mTypeError\u001b[0m: unsupported operand type(s) for ** or pow(): 'list' and 'int'"
     ]
    }
   ],
   "source": [
    "weights=[60,70,80,90]   \n",
    "heights=[1.6,1.7,1.8,1.9]\n",
    "\n",
    "bmi=weights/(heights**2)"
   ]
  },
  {
   "cell_type": "markdown",
   "metadata": {},
   "source": [
    "#### To overcome this we convert list into numpy"
   ]
  },
  {
   "cell_type": "code",
   "execution_count": null,
   "metadata": {},
   "outputs": [],
   "source": [
    "import numpy as np\n",
    "\n",
    "np_weights = np.array(weights)\n",
    "print(\"numpy array:\",np_weights)\n",
    "print(\"array type:\",type(np_weights))\n",
    "print(\"data type:\",np_weights.dtype)\n",
    "print(\"no of dimensions:\",np_weights.ndim)   # axes\n",
    "print(\"shape of array:\",np_weights.shape)\n",
    "print(np_weights[0])"
   ]
  },
  {
   "cell_type": "code",
   "execution_count": null,
   "metadata": {},
   "outputs": [],
   "source": [
    "np_heights = np.array(heights)\n",
    "print(\"numpy array:\",np_heights)\n",
    "print(\"array type:\",type(np_heights))\n",
    "print(\"data type:\",np_heights.dtype)\n",
    "print(\"no of dimensions:\",np_heights.ndim)   # axes\n",
    "print(\"shape of array:\",np_heights.shape)\n",
    "print(np_heights[0])"
   ]
  },
  {
   "cell_type": "code",
   "execution_count": null,
   "metadata": {},
   "outputs": [],
   "source": [
    "bmi=np_weights/(np_heights**2)\n",
    "print(bmi)"
   ]
  },
  {
   "cell_type": "markdown",
   "metadata": {},
   "source": [
    "- below 18.5 – you're in the underweight range.\n",
    "- between 18.5 and 24.9 – you're in the healthy weight range.\n",
    "- between 25 and 29.9 – you're in the overweight range."
   ]
  },
  {
   "cell_type": "markdown",
   "metadata": {},
   "source": [
    "### Q.) Can we divide a list with int ?  Ans: No"
   ]
  },
  {
   "cell_type": "code",
   "execution_count": null,
   "metadata": {},
   "outputs": [],
   "source": [
    "#[10,20]/6  # TypeError: unsupported operand type(s) for /: 'list' and 'int'"
   ]
  },
  {
   "cell_type": "code",
   "execution_count": null,
   "metadata": {},
   "outputs": [],
   "source": [
    "True+False"
   ]
  },
  {
   "cell_type": "code",
   "execution_count": null,
   "metadata": {},
   "outputs": [],
   "source": [
    "True+True+True"
   ]
  },
  {
   "cell_type": "code",
   "execution_count": null,
   "metadata": {},
   "outputs": [],
   "source": [
    "sum(35<[30,40,50,60])"
   ]
  },
  {
   "cell_type": "markdown",
   "metadata": {},
   "source": [
    "#### To overcome"
   ]
  },
  {
   "cell_type": "code",
   "execution_count": null,
   "metadata": {},
   "outputs": [],
   "source": [
    "sum(35<np.array([30,40,50,60,70]))  # there are 4 values > 35"
   ]
  },
  {
   "cell_type": "markdown",
   "metadata": {},
   "source": [
    "## 2.Numpy array is homogeneous multidimensional array"
   ]
  },
  {
   "cell_type": "markdown",
   "metadata": {},
   "source": [
    "- It is a table of elements (usually numbers), all of the same type, indexed by a tuple of positive integers"
   ]
  },
  {
   "cell_type": "code",
   "execution_count": null,
   "metadata": {},
   "outputs": [],
   "source": [
    "a_list = [10,10.33,\"python\",1+2J,True,[10,30]]\n",
    "a_list"
   ]
  },
  {
   "cell_type": "code",
   "execution_count": null,
   "metadata": {},
   "outputs": [],
   "source": [
    "import numpy as np\n",
    "a_np_list = np.array([10,10.33])  # i given input 10 it is int 10.33 it is float\n",
    "a_np_list                         # here integer converted into float "
   ]
  },
  {
   "cell_type": "code",
   "execution_count": null,
   "metadata": {},
   "outputs": [],
   "source": [
    "a_np_list = np.array([10,10.33,\"pawan\"])\n",
    "a_np_list"
   ]
  },
  {
   "cell_type": "markdown",
   "metadata": {},
   "source": [
    "## 3.Numpy(Numerical Python)\n",
    "- Generally we will use numpy to store numbers.\n",
    "- However it can be used to store any collection of single datatype values\n",
    "- NumPy is a powerful N-dimensional array object"
   ]
  },
  {
   "cell_type": "markdown",
   "metadata": {},
   "source": [
    "### 3.1 How to identify the given array is 1d array\n",
    "- 1d array is nothing but One Column/ Vector/ one variable/ one feature\n",
    "- In core python range function is equal to numpy arange function\n",
    "- Using range ,we will get list as a output\n",
    "- Using np.arange, we will get array as a output"
   ]
  },
  {
   "cell_type": "code",
   "execution_count": null,
   "metadata": {},
   "outputs": [],
   "source": [
    "import numpy as np\n",
    "\n",
    "od=np.arange(0,12,2)\n",
    "\n",
    "print(\"numpy array:\",od)\n",
    "print(type(od))\n",
    "print(od.ndim)\n",
    "print(od.shape)\n",
    "print(type(od.shape))"
   ]
  },
  {
   "cell_type": "code",
   "execution_count": null,
   "metadata": {},
   "outputs": [],
   "source": [
    "od.shape"
   ]
  },
  {
   "cell_type": "code",
   "execution_count": null,
   "metadata": {},
   "outputs": [],
   "source": [
    "type(od.shape)"
   ]
  },
  {
   "cell_type": "markdown",
   "metadata": {},
   "source": [
    "### reading numpy 1D array items"
   ]
  },
  {
   "cell_type": "code",
   "execution_count": null,
   "metadata": {},
   "outputs": [],
   "source": [
    "#index method\n",
    "od[1]"
   ]
  },
  {
   "cell_type": "code",
   "execution_count": null,
   "metadata": {},
   "outputs": [],
   "source": [
    "#slice method\n",
    "od[0:3]"
   ]
  },
  {
   "cell_type": "code",
   "execution_count": null,
   "metadata": {},
   "outputs": [],
   "source": [
    "#fancy method\n",
    "od[[1,3,5,2]]"
   ]
  },
  {
   "cell_type": "markdown",
   "metadata": {},
   "source": [
    "### numpy array is mutable"
   ]
  },
  {
   "cell_type": "code",
   "execution_count": null,
   "metadata": {},
   "outputs": [],
   "source": [
    "od[1]=200\n",
    "od"
   ]
  },
  {
   "cell_type": "markdown",
   "metadata": {},
   "source": [
    "### 3.2 How to identify the given array is 2D\n",
    "- 2D examples are \n",
    "    - 2 or more than 2 columns data\n",
    "    - table\n",
    "    - matrix\n",
    "    - black and white image"
   ]
  },
  {
   "cell_type": "markdown",
   "metadata": {},
   "source": [
    "### Ex 1:- Animal table"
   ]
  },
  {
   "cell_type": "code",
   "execution_count": null,
   "metadata": {},
   "outputs": [],
   "source": [
    "                #weight   #legs  #hair column\n",
    "at = np.array([[1000, 80],[4,2],[30,1.5]])\n",
    "print(at)\n",
    "print(type(at))\n",
    "print(at.ndim)\n",
    "print(at.shape)   # 3 features and 2 samples"
   ]
  },
  {
   "cell_type": "markdown",
   "metadata": {},
   "source": [
    "- right to left explaination\n",
    "- 2(no. of items in 1d array)(no.of rows)\n",
    "- 3(no. of 1d arrays in 2d aaray)(no.of columns)"
   ]
  },
  {
   "cell_type": "code",
   "execution_count": null,
   "metadata": {},
   "outputs": [],
   "source": [
    "td=np.arange(0,24,2).reshape(3,4)\n",
    "print(td)\n",
    "print(type(td))\n",
    "print(td.ndim)\n",
    "print(td.shape)"
   ]
  },
  {
   "cell_type": "markdown",
   "metadata": {},
   "source": [
    "### Accessing of 2D"
   ]
  },
  {
   "cell_type": "code",
   "execution_count": null,
   "metadata": {},
   "outputs": [],
   "source": [
    "#1st row\n",
    "td[0]"
   ]
  },
  {
   "cell_type": "code",
   "execution_count": null,
   "metadata": {},
   "outputs": [],
   "source": [
    "#2nd row\n",
    "td[2]"
   ]
  },
  {
   "cell_type": "code",
   "execution_count": null,
   "metadata": {},
   "outputs": [],
   "source": [
    "td[2][2]"
   ]
  },
  {
   "cell_type": "code",
   "execution_count": null,
   "metadata": {},
   "outputs": [],
   "source": [
    "td[:,2]  #all rows 3rd column"
   ]
  },
  {
   "cell_type": "code",
   "execution_count": null,
   "metadata": {},
   "outputs": [],
   "source": [
    "td[1,:]  #2nd row all columns"
   ]
  },
  {
   "cell_type": "code",
   "execution_count": null,
   "metadata": {},
   "outputs": [],
   "source": [
    "#slice method\n",
    "td[0:2]"
   ]
  },
  {
   "cell_type": "markdown",
   "metadata": {},
   "source": [
    "###  3.3  How to identify the given array is 3D"
   ]
  },
  {
   "cell_type": "code",
   "execution_count": null,
   "metadata": {},
   "outputs": [],
   "source": [
    "thd=np.arange(24).reshape(2,3,4)\n",
    "print(thd)\n",
    "print(thd.ndim)\n",
    "print(thd.shape)"
   ]
  },
  {
   "cell_type": "markdown",
   "metadata": {},
   "source": [
    "#### Right to left\n",
    "- 4: no. of items in 1D array\n",
    "- 3: no.of 1D array in 2D array\n",
    "- 2: no. of 2D array in 3D array"
   ]
  },
  {
   "cell_type": "markdown",
   "metadata": {},
   "source": [
    "### 3.4 How to identify the 4D"
   ]
  },
  {
   "cell_type": "code",
   "execution_count": null,
   "metadata": {},
   "outputs": [],
   "source": [
    "np.arange(64).reshape(4,4,4)"
   ]
  },
  {
   "cell_type": "code",
   "execution_count": null,
   "metadata": {},
   "outputs": [],
   "source": [
    "fd = np.arange(48).reshape(2,2,3,4)\n",
    "fd"
   ]
  },
  {
   "cell_type": "markdown",
   "metadata": {},
   "source": [
    "# 4.numpy array occupies less memory"
   ]
  },
  {
   "cell_type": "code",
   "execution_count": null,
   "metadata": {},
   "outputs": [],
   "source": [
    "py_lst= list(range(200))"
   ]
  },
  {
   "cell_type": "code",
   "execution_count": null,
   "metadata": {},
   "outputs": [],
   "source": [
    "min(py_lst),max(py_lst),len(py_lst)"
   ]
  },
  {
   "cell_type": "code",
   "execution_count": null,
   "metadata": {},
   "outputs": [],
   "source": [
    "import numpy as np\n",
    "np_arr=np.array(list(range(200)))"
   ]
  },
  {
   "cell_type": "code",
   "execution_count": null,
   "metadata": {},
   "outputs": [],
   "source": [
    "min(np_arr),max(np_arr),len(np_arr)"
   ]
  },
  {
   "cell_type": "code",
   "execution_count": null,
   "metadata": {},
   "outputs": [],
   "source": [
    "import sys\n",
    "\n",
    "print(sys.getsizeof(py_lst))\n",
    "print(sys.getsizeof(np_arr))"
   ]
  },
  {
   "cell_type": "markdown",
   "metadata": {},
   "source": [
    "### In Machine learning we will use\n",
    "- input(X) --> 2D np array\n",
    "- output(y) --> 1D np array"
   ]
  },
  {
   "cell_type": "code",
   "execution_count": null,
   "metadata": {},
   "outputs": [],
   "source": [
    "import pandas as pd\n",
    "\n",
    "df = pd.read_csv(\"E:/code/5.DataAnalysisOfficial/data/iris.csv\")\n",
    "df.head()                        #150 rows × 5 columns"
   ]
  },
  {
   "cell_type": "code",
   "execution_count": null,
   "metadata": {},
   "outputs": [],
   "source": [
    "df.tail()"
   ]
  },
  {
   "cell_type": "code",
   "execution_count": null,
   "metadata": {},
   "outputs": [],
   "source": [
    "s = df.species  # df['species']\n",
    "type(s)"
   ]
  },
  {
   "cell_type": "code",
   "execution_count": 110,
   "metadata": {},
   "outputs": [
    {
     "ename": "AttributeError",
     "evalue": "'numpy.ndarray' object has no attribute 'values'",
     "output_type": "error",
     "traceback": [
      "\u001b[1;31m---------------------------------------------------------------------------\u001b[0m",
      "\u001b[1;31mAttributeError\u001b[0m                            Traceback (most recent call last)",
      "\u001b[1;32m<ipython-input-110-104752fdff6e>\u001b[0m in \u001b[0;36m<module>\u001b[1;34m()\u001b[0m\n\u001b[1;32m----> 1\u001b[1;33m \u001b[0my\u001b[0m \u001b[1;33m=\u001b[0m \u001b[0ms\u001b[0m\u001b[1;33m.\u001b[0m\u001b[0mvalues\u001b[0m    \u001b[1;31m# to convert series to 1d array\u001b[0m\u001b[1;33m\u001b[0m\u001b[0m\n\u001b[0m\u001b[0;32m      2\u001b[0m \u001b[0mtype\u001b[0m\u001b[1;33m(\u001b[0m\u001b[0my\u001b[0m\u001b[1;33m)\u001b[0m\u001b[1;33m\u001b[0m\u001b[0m\n",
      "\u001b[1;31mAttributeError\u001b[0m: 'numpy.ndarray' object has no attribute 'values'"
     ]
    }
   ],
   "source": [
    "y = s.values    # to convert series to 1d array\n",
    "type(y)"
   ]
  },
  {
   "cell_type": "code",
   "execution_count": null,
   "metadata": {},
   "outputs": [],
   "source": [
    "X = df[df.columns[:-1]]\n",
    "type(X)"
   ]
  },
  {
   "cell_type": "code",
   "execution_count": null,
   "metadata": {},
   "outputs": [],
   "source": [
    "X = X.values       #converting DF to 2d array\n",
    "type(X)"
   ]
  },
  {
   "cell_type": "code",
   "execution_count": null,
   "metadata": {},
   "outputs": [],
   "source": [
    "X.shape   # 150 samples, 4 features"
   ]
  },
  {
   "cell_type": "markdown",
   "metadata": {},
   "source": [
    "### Create 2D array from black and white image"
   ]
  },
  {
   "cell_type": "code",
   "execution_count": null,
   "metadata": {},
   "outputs": [],
   "source": [
    "from PIL import Image\n",
    "mon = Image.open(\"E:/code/5.DataAnalysisOfficial/img/man.png\")\n",
    "mon"
   ]
  },
  {
   "cell_type": "code",
   "execution_count": null,
   "metadata": {},
   "outputs": [],
   "source": [
    "#np.array(mon)"
   ]
  },
  {
   "cell_type": "code",
   "execution_count": null,
   "metadata": {},
   "outputs": [],
   "source": [
    "#convert color image to black and white\n",
    "mon2 = mon.convert('1')\n",
    "mon2"
   ]
  },
  {
   "cell_type": "code",
   "execution_count": null,
   "metadata": {},
   "outputs": [],
   "source": [
    "#get 2D array from balck and white image\n",
    "import numpy as np\n",
    "\n",
    "A = np.array(mon2)\n",
    "A                            # True(1) means black, False(0) means white"
   ]
  },
  {
   "cell_type": "code",
   "execution_count": 111,
   "metadata": {},
   "outputs": [
    {
     "name": "stdout",
     "output_type": "stream",
     "text": [
      "(310, 348)\n",
      "2\n"
     ]
    }
   ],
   "source": [
    "print(A.shape)\n",
    "print(A.ndim)"
   ]
  },
  {
   "cell_type": "markdown",
   "metadata": {},
   "source": [
    "### Create 3D array from color image"
   ]
  },
  {
   "cell_type": "code",
   "execution_count": 112,
   "metadata": {},
   "outputs": [
    {
     "data": {
      "image/png": "[encoded data removed]",
      "text/plain": [
       "<PIL.PngImagePlugin.PngImageFile image mode=RGBA size=348x310 at 0x23DCF324C18>"
      ]
     },
     "execution_count": 112,
     "metadata": {},
     "output_type": "execute_result"
    }
   ],
   "source": [
    "from PIL import Image\n",
    "\n",
    "monk = Image.open(\"E:/code/5.DataAnalysisOfficial/img/man.png\")\n",
    "monk"
   ]
  },
  {
   "cell_type": "code",
   "execution_count": 113,
   "metadata": {},
   "outputs": [
    {
     "data": {
      "text/plain": [
       "array([[[ 47,  48,  45, 255],\n",
       "        [ 45,  48,  42, 255],\n",
       "        [ 44,  49,  40, 255],\n",
       "        ...,\n",
       "        [ 55, 102,  66, 255],\n",
       "        [ 56, 101,  66, 255],\n",
       "        [ 53,  97,  64, 255]],\n",
       "\n",
       "       [[ 48,  47,  46, 255],\n",
       "        [ 46,  48,  43, 255],\n",
       "        [ 45,  49,  41, 255],\n",
       "        ...,\n",
       "        [ 57, 107,  71, 255],\n",
       "        [ 57, 107,  71, 255],\n",
       "        [ 54, 103,  69, 255]],\n",
       "\n",
       "       [[ 48,  47,  45, 255],\n",
       "        [ 46,  48,  44, 255],\n",
       "        [ 45,  49,  42, 255],\n",
       "        ...,\n",
       "        [ 60, 110,  75, 255],\n",
       "        [ 59, 109,  75, 255],\n",
       "        [ 56, 106,  71, 255]],\n",
       "\n",
       "       ...,\n",
       "\n",
       "       [[ 53,  57,  38, 255],\n",
       "        [ 56,  61,  41, 255],\n",
       "        [ 58,  62,  42, 255],\n",
       "        ...,\n",
       "        [252, 253, 252, 255],\n",
       "        [253, 253, 252, 255],\n",
       "        [253, 253, 251, 255]],\n",
       "\n",
       "       [[ 56,  57,  39, 255],\n",
       "        [ 58,  60,  41, 255],\n",
       "        [ 59,  61,  42, 255],\n",
       "        ...,\n",
       "        [251, 253, 245, 255],\n",
       "        [253, 252, 243, 255],\n",
       "        [253, 252, 243, 255]],\n",
       "\n",
       "       [[ 58,  56,  38, 255],\n",
       "        [ 58,  56,  38, 255],\n",
       "        [ 56,  54,  36, 255],\n",
       "        ...,\n",
       "        [253, 251, 237, 255],\n",
       "        [251, 248, 234, 255],\n",
       "        [250, 246, 234, 255]]], dtype=uint8)"
      ]
     },
     "execution_count": 113,
     "metadata": {},
     "output_type": "execute_result"
    }
   ],
   "source": [
    "import numpy as np\n",
    "\n",
    "B = np.array(monk)\n",
    "B"
   ]
  },
  {
   "cell_type": "code",
   "execution_count": 114,
   "metadata": {},
   "outputs": [
    {
     "name": "stdout",
     "output_type": "stream",
     "text": [
      "<class 'numpy.ndarray'>\n",
      "3\n",
      "(310, 348, 4)\n"
     ]
    }
   ],
   "source": [
    "print(type(B))\n",
    "print(B.ndim)\n",
    "print(B.shape)"
   ]
  },
  {
   "cell_type": "markdown",
   "metadata": {},
   "source": [
    "#### Numpy basic functions"
   ]
  },
  {
   "cell_type": "code",
   "execution_count": 115,
   "metadata": {},
   "outputs": [
    {
     "data": {
      "text/plain": [
       "array([0.53597298, 0.21819092, 0.08078184, 0.01541739, 0.13548103,\n",
       "       0.77728013, 0.38483036, 0.20492465, 0.07782942, 0.66840082])"
      ]
     },
     "execution_count": 115,
     "metadata": {},
     "output_type": "execute_result"
    }
   ],
   "source": [
    "import numpy as np\n",
    "lst=[0.53597298, 0.21819092, 0.08078184, 0.01541739, 0.13548103,\n",
    "       0.77728013, 0.38483036, 0.20492465, 0.07782942, 0.66840082]\n",
    "od = np.array(lst)\n",
    "od"
   ]
  },
  {
   "cell_type": "code",
   "execution_count": 116,
   "metadata": {},
   "outputs": [
    {
     "name": "stdout",
     "output_type": "stream",
     "text": [
      "no of dimensions: 1\n",
      "shape of array: (10,)\n",
      "size of array: 10\n",
      "data type: float64\n",
      "8\n"
     ]
    }
   ],
   "source": [
    "print(\"no of dimensions:\",od.ndim)   # axes\n",
    "print(\"shape of array:\",od.shape)\n",
    "print(\"size of array:\",od.size)\n",
    "print(\"data type:\",od.dtype)\n",
    "print(od.itemsize)       #itemsize. This array attribute returns the length of each element of array in bytes."
   ]
  },
  {
   "cell_type": "code",
   "execution_count": 117,
   "metadata": {},
   "outputs": [
    {
     "data": {
      "text/plain": [
       "array([[0.26006297, 0.49848788],\n",
       "       [0.03096577, 0.63122033],\n",
       "       [0.36290074, 0.44400268],\n",
       "       [0.25793848, 0.17008969],\n",
       "       [0.0272683 , 0.65643645],\n",
       "       [0.38677888, 0.10093073],\n",
       "       [0.81049628, 0.95088786],\n",
       "       [0.21646456, 0.60655466],\n",
       "       [0.62425254, 0.93113557],\n",
       "       [0.796347  , 0.47588073]])"
      ]
     },
     "execution_count": 117,
     "metadata": {},
     "output_type": "execute_result"
    }
   ],
   "source": [
    "lsts=[[0.26006297, 0.49848788],\n",
    "       [0.03096577, 0.63122033],\n",
    "       [0.36290074, 0.44400268],\n",
    "       [0.25793848, 0.17008969],\n",
    "       [0.0272683 , 0.65643645],\n",
    "       [0.38677888, 0.10093073],\n",
    "       [0.81049628, 0.95088786],\n",
    "       [0.21646456, 0.60655466],\n",
    "       [0.62425254, 0.93113557],\n",
    "       [0.796347  , 0.47588073]]\n",
    "td = np.array(lsts)\n",
    "td"
   ]
  },
  {
   "cell_type": "code",
   "execution_count": 118,
   "metadata": {},
   "outputs": [
    {
     "name": "stdout",
     "output_type": "stream",
     "text": [
      "2\n",
      "(10, 2)\n",
      "20\n",
      "float64\n",
      "8\n"
     ]
    }
   ],
   "source": [
    "print(td.ndim)\n",
    "print(td.shape)\n",
    "print(td.size)\n",
    "print(td.dtype)\n",
    "print(td.itemsize)"
   ]
  },
  {
   "cell_type": "code",
   "execution_count": 119,
   "metadata": {},
   "outputs": [
    {
     "data": {
      "text/plain": [
       "array([[0., 0., 0., 0.],\n",
       "       [0., 0., 0., 0.],\n",
       "       [0., 0., 0., 0.]])"
      ]
     },
     "execution_count": 119,
     "metadata": {},
     "output_type": "execute_result"
    }
   ],
   "source": [
    "np.zeros((3,4))"
   ]
  },
  {
   "cell_type": "code",
   "execution_count": 120,
   "metadata": {},
   "outputs": [
    {
     "data": {
      "text/plain": [
       "array([[1., 1., 1.],\n",
       "       [1., 1., 1.]])"
      ]
     },
     "execution_count": 120,
     "metadata": {},
     "output_type": "execute_result"
    }
   ],
   "source": [
    "np.ones((2,3))"
   ]
  },
  {
   "cell_type": "code",
   "execution_count": 121,
   "metadata": {},
   "outputs": [
    {
     "data": {
      "text/plain": [
       "array([[1., 1., 1.],\n",
       "       [1., 1., 1.]])"
      ]
     },
     "execution_count": 121,
     "metadata": {},
     "output_type": "execute_result"
    }
   ],
   "source": [
    "np.empty((2,3))                     # uninitialized, output may vary"
   ]
  },
  {
   "cell_type": "code",
   "execution_count": 122,
   "metadata": {},
   "outputs": [
    {
     "data": {
      "text/plain": [
       "array([0.  , 0.25, 0.5 , 0.75, 1.  , 1.25, 1.5 , 1.75, 2.  ])"
      ]
     },
     "execution_count": 122,
     "metadata": {},
     "output_type": "execute_result"
    }
   ],
   "source": [
    "np.linspace( 0, 2, 9 )                 # 9 numbers from 0 to 2"
   ]
  },
  {
   "cell_type": "code",
   "execution_count": 123,
   "metadata": {},
   "outputs": [
    {
     "data": {
      "text/plain": [
       "array([0, 0, 0, 0, 1, 1, 1, 1, 2])"
      ]
     },
     "execution_count": 123,
     "metadata": {},
     "output_type": "execute_result"
    }
   ],
   "source": [
    "np.linspace( 0, 2, 9, dtype='int' )"
   ]
  },
  {
   "cell_type": "code",
   "execution_count": 124,
   "metadata": {},
   "outputs": [],
   "source": [
    "a = np.array([[1,2,3],[4,5,6]])\n",
    "b = np.array([[1,2],[3,4],[5,6]])"
   ]
  },
  {
   "cell_type": "code",
   "execution_count": 125,
   "metadata": {},
   "outputs": [
    {
     "data": {
      "text/plain": [
       "array([[1, 2, 3],\n",
       "       [4, 5, 6]])"
      ]
     },
     "execution_count": 125,
     "metadata": {},
     "output_type": "execute_result"
    }
   ],
   "source": [
    "a"
   ]
  },
  {
   "cell_type": "code",
   "execution_count": 126,
   "metadata": {},
   "outputs": [
    {
     "data": {
      "text/plain": [
       "array([[1, 2],\n",
       "       [3, 4],\n",
       "       [5, 6]])"
      ]
     },
     "execution_count": 126,
     "metadata": {},
     "output_type": "execute_result"
    }
   ],
   "source": [
    "b"
   ]
  },
  {
   "cell_type": "code",
   "execution_count": 127,
   "metadata": {},
   "outputs": [
    {
     "data": {
      "text/plain": [
       "array([[22, 28],\n",
       "       [49, 64]])"
      ]
     },
     "execution_count": 127,
     "metadata": {},
     "output_type": "execute_result"
    }
   ],
   "source": [
    "a.dot(b)"
   ]
  },
  {
   "cell_type": "code",
   "execution_count": 128,
   "metadata": {},
   "outputs": [
    {
     "data": {
      "text/plain": [
       "array([[1, 4],\n",
       "       [2, 5],\n",
       "       [3, 6]])"
      ]
     },
     "execution_count": 128,
     "metadata": {},
     "output_type": "execute_result"
    }
   ],
   "source": [
    "a.T"
   ]
  },
  {
   "cell_type": "code",
   "execution_count": 129,
   "metadata": {},
   "outputs": [],
   "source": [
    "i = np.array([[4, 7],\n",
    "          [2, 6]])"
   ]
  },
  {
   "cell_type": "code",
   "execution_count": 130,
   "metadata": {},
   "outputs": [
    {
     "data": {
      "text/plain": [
       "array([[ 0.6, -0.7],\n",
       "       [-0.2,  0.4]])"
      ]
     },
     "execution_count": 130,
     "metadata": {},
     "output_type": "execute_result"
    }
   ],
   "source": [
    "np.linalg.inv(i)"
   ]
  },
  {
   "cell_type": "markdown",
   "metadata": {},
   "source": [
    "#### deep and shallow copying"
   ]
  },
  {
   "cell_type": "code",
   "execution_count": 131,
   "metadata": {},
   "outputs": [
    {
     "data": {
      "text/plain": [
       "array([10, 20, 30, 40])"
      ]
     },
     "execution_count": 131,
     "metadata": {},
     "output_type": "execute_result"
    }
   ],
   "source": [
    "import numpy as np\n",
    "\n",
    "a = np.array([10,20,30,40])\n",
    "a"
   ]
  },
  {
   "cell_type": "markdown",
   "metadata": {},
   "source": [
    "#### we can do shallow copying in two ways\n",
    "- view\n",
    "- assignment(=)"
   ]
  },
  {
   "cell_type": "code",
   "execution_count": 132,
   "metadata": {},
   "outputs": [
    {
     "data": {
      "text/plain": [
       "array([10, 20, 30, 40])"
      ]
     },
     "execution_count": 132,
     "metadata": {},
     "output_type": "execute_result"
    }
   ],
   "source": [
    "s = a.view()\n",
    "s"
   ]
  },
  {
   "cell_type": "code",
   "execution_count": 133,
   "metadata": {},
   "outputs": [],
   "source": [
    "s[0]=5000"
   ]
  },
  {
   "cell_type": "code",
   "execution_count": 134,
   "metadata": {},
   "outputs": [
    {
     "name": "stdout",
     "output_type": "stream",
     "text": [
      "[5000   20   30   40]\n",
      "[5000   20   30   40]\n"
     ]
    }
   ],
   "source": [
    "print(s)\n",
    "print(a)"
   ]
  },
  {
   "cell_type": "markdown",
   "metadata": {},
   "source": [
    "#### deep copy"
   ]
  },
  {
   "cell_type": "code",
   "execution_count": 135,
   "metadata": {},
   "outputs": [
    {
     "data": {
      "text/plain": [
       "array([10, 20, 30, 40])"
      ]
     },
     "execution_count": 135,
     "metadata": {},
     "output_type": "execute_result"
    }
   ],
   "source": [
    "a = np.array([10,20,30,40])\n",
    "a"
   ]
  },
  {
   "cell_type": "code",
   "execution_count": 136,
   "metadata": {},
   "outputs": [],
   "source": [
    "d = a.copy()     #deep copy"
   ]
  },
  {
   "cell_type": "code",
   "execution_count": 137,
   "metadata": {},
   "outputs": [],
   "source": [
    "d[0]=3000"
   ]
  },
  {
   "cell_type": "code",
   "execution_count": 138,
   "metadata": {},
   "outputs": [
    {
     "data": {
      "text/plain": [
       "array([3000,   20,   30,   40])"
      ]
     },
     "execution_count": 138,
     "metadata": {},
     "output_type": "execute_result"
    }
   ],
   "source": [
    "d"
   ]
  },
  {
   "cell_type": "code",
   "execution_count": 139,
   "metadata": {},
   "outputs": [
    {
     "data": {
      "text/plain": [
       "array([10, 20, 30, 40])"
      ]
     },
     "execution_count": 139,
     "metadata": {},
     "output_type": "execute_result"
    }
   ],
   "source": [
    "a"
   ]
  },
  {
   "cell_type": "code",
   "execution_count": null,
   "metadata": {},
   "outputs": [],
   "source": []
  },
  {
   "cell_type": "code",
   "execution_count": null,
   "metadata": {},
   "outputs": [],
   "source": []
  }
 ],
 "metadata": {
  "kernelspec": {
   "display_name": "Python 3",
   "language": "python",
   "name": "python3"
  },
  "language_info": {
   "codemirror_mode": {
    "name": "ipython",
    "version": 3
   },
   "file_extension": ".py",
   "mimetype": "text/x-python",
   "name": "python",
   "nbconvert_exporter": "python",
   "pygments_lexer": "ipython3",
   "version": "3.6.5"
  }
 },
 "nbformat": 4,
 "nbformat_minor": 2
}
